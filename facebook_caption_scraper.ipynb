{
  "cells": [
    {
      "cell_type": "markdown",
      "metadata": {
        "id": "view-in-github",
        "colab_type": "text"
      },
      "source": [
        "<a href=\"https://colab.research.google.com/github/tanatet8/Colab_Script/blob/main/facebook_caption_scraper.ipynb\" target=\"_parent\"><img src=\"https://colab.research.google.com/assets/colab-badge.svg\" alt=\"Open In Colab\"/></a>"
      ]
    },
    {
      "cell_type": "code",
      "source": [
        "# ติดตั้ง selenium และ chromium สำหรับใช้งาน browser แบบอัตโนมัติ\n",
        "!pip install selenium\n",
        "!apt-get update\n",
        "!apt install chromium-chromedriver\n",
        "!cp /usr/lib/chromium-browser/chromedriver /usr/bin\n",
        "\n",
        "# เพิ่ม path ให้ Python หา chrome driver เจอ\n",
        "import sys\n",
        "sys.path.insert(0,'/usr/lib/chromium-browser/chromedriver')"
      ],
      "metadata": {
        "id": "azKO0QA4CDsn"
      },
      "execution_count": null,
      "outputs": []
    },
    {
      "cell_type": "code",
      "source": [
        "from selenium import webdriver\n",
        "from selenium.webdriver.chrome.options import Options\n",
        "\n",
        "# สร้าง options สำหรับ Chrome browser\n",
        "chrome_options = Options()\n",
        "chrome_options.add_argument(\"--headless\")  # ไม่แสดงหน้าต่าง browser\n",
        "chrome_options.add_argument(\"--disable-dev-shm-usage\")\n",
        "chrome_options.add_argument(\"--no-sandbox\")\n",
        "\n",
        "# เปิด browser โดยใช้ options ที่ตั้งไว้\n",
        "driver = webdriver.Chrome(options=chrome_options)"
      ],
      "metadata": {
        "id": "q5od5OQ6CG_V"
      },
      "execution_count": null,
      "outputs": []
    },
    {
      "cell_type": "code",
      "source": [
        "# เปิดหน้าเพจ Facebook ที่เราจะดึงข้อมูลโพสต์ (Public เท่านั้น)\n",
        "driver.get(\"https://www.facebook.com/people/เขียนไว้ให้เธอ/100044623680446/?sk=photos\")\n",
        "\n",
        "# รอโหลดข้อมูลประมาณ 5 วินาที\n",
        "import time\n",
        "time.sleep(5)"
      ],
      "metadata": {
        "id": "Evce_7_fCJYp"
      },
      "execution_count": null,
      "outputs": []
    },
    {
      "cell_type": "code",
      "source": [
        "# เลื่อนหน้าจอลงทีละช่วง เพื่อให้ Facebook โหลดโพสต์เพิ่ม\n",
        "scroll_pause_time = 2\n",
        "last_height = driver.execute_script(\"return document.body.scrollHeight\")\n",
        "\n",
        "for i in range(10):  # สามารถเพิ่มรอบได้หากต้องการดึงโพสต์ลึกกว่านี้\n",
        "    driver.execute_script(\"window.scrollTo(0, document.body.scrollHeight);\")\n",
        "    time.sleep(scroll_pause_time)\n",
        "    new_height = driver.execute_script(\"return document.body.scrollHeight\")\n",
        "    if new_height == last_height:\n",
        "        break\n",
        "    last_height = new_height"
      ],
      "metadata": {
        "id": "oz2mLD1FCNoi"
      },
      "execution_count": null,
      "outputs": []
    },
    {
      "cell_type": "code",
      "source": [
        "from selenium.webdriver.common.by import By\n",
        "from selenium.common.exceptions import NoSuchElementException\n",
        "\n",
        "captions = []\n",
        "\n",
        "# หาโพสต์ทั้งหมดจากลิงก์ที่เป็น photo\n",
        "posts = driver.find_elements(By.XPATH, \"//a[contains(@href, '/photo.php')]\")\n",
        "\n",
        "print(f\"📸 พบโพสต์ทั้งหมด: {len(posts)}\")\n",
        "\n",
        "# เปิดแต่ละโพสต์เพื่อดึงข้อความ\n",
        "for i, post in enumerate(posts):\n",
        "    try:\n",
        "        post_url = post.get_attribute('href')\n",
        "        if post_url:\n",
        "            # เปิดแท็บใหม่ไปยังโพสต์\n",
        "            driver.execute_script(\"window.open(arguments[0]);\", post_url)\n",
        "            driver.switch_to.window(driver.window_handles[1])\n",
        "            time.sleep(3)\n",
        "\n",
        "            try:\n",
        "                # ดึงข้อความแคปชันจากโพสต์\n",
        "                caption = driver.find_element(By.XPATH, \"//div[@data-ad-comet-preview='message']\").text\n",
        "                captions.append(caption)\n",
        "                print(f\"✅ โพสต์ที่ {i+1}: {caption[:60]}...\")\n",
        "            except NoSuchElementException:\n",
        "                print(f\"⛔️ ไม่มีข้อความในโพสต์ที่ {i+1}\")\n",
        "\n",
        "            # ปิดแท็บ แล้วกลับมาที่แท็บหลัก\n",
        "            driver.close()\n",
        "            driver.switch_to.window(driver.window_handles[0])\n",
        "\n",
        "    except Exception as e:\n",
        "        print(f\"❌ Error ที่โพสต์ {i+1}: {e}\")\n",
        "        continue\n",
        "\n",
        "# ปิด browser หลังเสร็จ\n",
        "driver.quit()"
      ],
      "metadata": {
        "id": "FI1B2evvCWX9"
      },
      "execution_count": null,
      "outputs": []
    },
    {
      "cell_type": "code",
      "source": [
        "# แสดงแคปชันทั้งหมดที่เก็บมาได้\n",
        "for i, text in enumerate(captions, 1):\n",
        "    print(f\"\\n📌 โพสต์ที่ {i} \\n{text}\\n{'-'*50}\")"
      ],
      "metadata": {
        "id": "bJ6xBnrsCg8D"
      },
      "execution_count": null,
      "outputs": []
    }
  ],
  "metadata": {
    "colab": {
      "name": "ยินดีต้อนรับสู่ Colab",
      "toc_visible": true,
      "provenance": [],
      "include_colab_link": true
    },
    "kernelspec": {
      "display_name": "Python 3",
      "name": "python3"
    }
  },
  "nbformat": 4,
  "nbformat_minor": 0
}