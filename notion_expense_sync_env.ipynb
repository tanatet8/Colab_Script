{
  "cells": [
    {
      "cell_type": "markdown",
      "metadata": {
        "id": "view-in-github",
        "colab_type": "text"
      },
      "source": [
        "<a href=\"https://colab.research.google.com/github/tanatet8/Colab_Script/blob/main/notion_expense_sync_env.ipynb\" target=\"_parent\"><img src=\"https://colab.research.google.com/assets/colab-badge.svg\" alt=\"Open In Colab\"/></a>"
      ]
    },
    {
      "cell_type": "code",
      "source": [
        "# ติดตั้งไลบรารีหลักที่ใช้:\n",
        "# - gspread: ใช้เชื่อมกับ Google Sheets\n",
        "# - oauth2client: สำหรับ auth กับ Google API\n",
        "# - notion-client: ใช้ยิงข้อมูลเข้า Notion API\n",
        "!pip install gspread oauth2client notion-client"
      ],
      "metadata": {
        "id": "au4u3xt0izp1"
      },
      "execution_count": null,
      "outputs": []
    },
    {
      "cell_type": "code",
      "source": [
        "import gspread\n",
        "from oauth2client.service_account import ServiceAccountCredentials\n",
        "\n",
        "# STEP 1: ใส่ Google Service Account JSON ไฟล์ (upload เอง หรือใช้ secret manager)\n",
        "# ตัวอย่างไฟล์ชื่อว่า 'service_account.json'\n",
        "\n",
        "# ระบุ scope สำหรับใช้งาน Google Sheets และ Drive API\n",
        "scope = [\"https://spreadsheets.google.com/feeds\",'https://www.googleapis.com/auth/drive']\n",
        "\n",
        "# auth และสร้าง client\n",
        "creds = ServiceAccountCredentials.from_json_keyfile_name(\"service_account.json\", scope)\n",
        "client = gspread.authorize(creds)\n",
        "\n",
        "# เปิด Sheet โดยใช้ Sheet ID ที่พี่สร้างไว้\n",
        "sheet = client.open_by_key(\"1j9GE9KsQnZdUVohsDJ9e97FDqQC-g1-Cv81L1olnHu4\").sheet1"
      ],
      "metadata": {
        "id": "QgNN4VIii21Y"
      },
      "execution_count": null,
      "outputs": []
    },
    {
      "cell_type": "code",
      "source": [
        "# แปลงข้อความที่ส่งมาจาก Line เช่น \"Food 180\"\n",
        "# → แยกเป็น category = \"Food\", amount = 180\n",
        "def parse_message(text):\n",
        "    try:\n",
        "        parts = text.strip().split()\n",
        "        category = parts[0]\n",
        "        amount = float(parts[1])\n",
        "        return category, amount\n",
        "    except:\n",
        "        # ถ้า format ไม่ถูกต้องจะคืน None\n",
        "        return None, None"
      ],
      "metadata": {
        "id": "uy0VpB50i6Nf"
      },
      "execution_count": null,
      "outputs": []
    },
    {
      "cell_type": "code",
      "source": [
        "from notion_client import Client\n",
        "\n",
        "# เชื่อมกับ Notion โดยใช้ Token ที่พี่ได้มาจาก my-integrations\n",
        "notion = Client(auth=\"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\")\n",
        "\n",
        "# ID ของ Notion Database ที่จะเขียนเข้า\n",
        "database_id = \"1be50a040a82806ea775ddc399cfbb45\"\n",
        "\n",
        "# ฟังก์ชันสำหรับสร้างรายการใหม่ใน Notion โดยใส่หมวดและยอดเงิน\n",
        "def push_to_notion(category, amount):\n",
        "    notion.pages.create(\n",
        "        parent={\"database_id\": database_id},\n",
        "        properties={\n",
        "            \"Categories\": {\"select\": {\"name\": category}},\n",
        "            \"Amount\": {\"number\": amount}\n",
        "        }\n",
        "    )\n"
      ],
      "metadata": {
        "id": "YSjXbNZijAz-"
      },
      "execution_count": null,
      "outputs": []
    },
    {
      "cell_type": "code",
      "source": [
        "# ฟังก์ชันหลักสำหรับ Sync:\n",
        "# - อ่านทุกแถวใน Google Sheet\n",
        "# - คัดเฉพาะแถวที่ยังไม่ Sync (Synced? == \"NO\")\n",
        "# - แปลงข้อความ และยิงเข้า Notion\n",
        "# - อัปเดตคอลัมน์ Synced? ให้เป็น \"YES\"\n",
        "\n",
        "def sync_sheet_to_notion():\n",
        "    data = sheet.get_all_records()\n",
        "    for idx, row in enumerate(data):\n",
        "        if row['Synced?'].strip().upper() != \"NO\":\n",
        "            continue  # ข้ามแถวที่ sync แล้ว\n",
        "\n",
        "        category, amount = parse_message(row['Message'])\n",
        "        if not category or not amount:\n",
        "            print(f\"❌ ข้าม row {idx+2}: format ผิด\")\n",
        "            continue\n",
        "\n",
        "        try:\n",
        "            push_to_notion(category, amount)\n",
        "            sheet.update_cell(idx+2, 4, \"YES\")  # update \"Synced?\" เป็น YES\n",
        "            print(f\"✅ Sync row {idx+2}: {category} {amount}\")\n",
        "        except Exception as e:\n",
        "            print(f\"🚨 Error at row {idx+2}: {e}\")\n",
        "\n",
        "# รันฟังก์ชัน\n",
        "sync_sheet_to_notion()\n"
      ],
      "metadata": {
        "id": "psDUscvmjEQK"
      },
      "execution_count": null,
      "outputs": []
    }
  ],
  "metadata": {
    "colab": {
      "name": "ยินดีต้อนรับสู่ Colab",
      "toc_visible": true,
      "provenance": [],
      "include_colab_link": true
    },
    "kernelspec": {
      "display_name": "Python 3",
      "name": "python3"
    }
  },
  "nbformat": 4,
  "nbformat_minor": 0
}