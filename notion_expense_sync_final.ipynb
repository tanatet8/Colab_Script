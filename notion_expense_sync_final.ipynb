{
  "cells": [
    {
      "cell_type": "markdown",
      "metadata": {
        "id": "view-in-github",
        "colab_type": "text"
      },
      "source": [
        "<a href=\"https://colab.research.google.com/github/tanatet8/Colab_Script/blob/main/notion_expense_sync_final.ipynb\" target=\"_parent\"><img src=\"https://colab.research.google.com/assets/colab-badge.svg\" alt=\"Open In Colab\"/></a>"
      ]
    },
    {
      "cell_type": "code",
      "source": [
        "# ✅ BLOCK 0: ติดตั้งไลบรารีที่ต้องใช้\n",
        "# --------------------------------------------------\n",
        "# ใช้สำหรับ:\n",
        "# - เชื่อม Google Sheet (gspread, oauth2client)\n",
        "# - โหลด .env (python-dotenv)\n",
        "# - ดึงข้อมูลไปยัง Notion (notion-client)\n",
        "# --------------------------------------------------\n",
        "\n",
        "!pip install gspread oauth2client python-dotenv notion-client"
      ],
      "metadata": {
        "colab": {
          "base_uri": "https://localhost:8080/"
        },
        "id": "WXKzgw5ENrTW",
        "outputId": "233f713e-e19d-4a0a-db33-80d1c2fda5a2"
      },
      "execution_count": 44,
      "outputs": [
        {
          "output_type": "stream",
          "name": "stdout",
          "text": [
            "Requirement already satisfied: gspread in /usr/local/lib/python3.11/dist-packages (6.2.1)\n",
            "Requirement already satisfied: oauth2client in /usr/local/lib/python3.11/dist-packages (4.1.3)\n",
            "Requirement already satisfied: python-dotenv in /usr/local/lib/python3.11/dist-packages (1.1.0)\n",
            "Requirement already satisfied: notion-client in /usr/local/lib/python3.11/dist-packages (2.4.0)\n",
            "Requirement already satisfied: google-auth>=1.12.0 in /usr/local/lib/python3.11/dist-packages (from gspread) (2.38.0)\n",
            "Requirement already satisfied: google-auth-oauthlib>=0.4.1 in /usr/local/lib/python3.11/dist-packages (from gspread) (1.2.2)\n",
            "Requirement already satisfied: httplib2>=0.9.1 in /usr/local/lib/python3.11/dist-packages (from oauth2client) (0.22.0)\n",
            "Requirement already satisfied: pyasn1>=0.1.7 in /usr/local/lib/python3.11/dist-packages (from oauth2client) (0.6.1)\n",
            "Requirement already satisfied: pyasn1-modules>=0.0.5 in /usr/local/lib/python3.11/dist-packages (from oauth2client) (0.4.2)\n",
            "Requirement already satisfied: rsa>=3.1.4 in /usr/local/lib/python3.11/dist-packages (from oauth2client) (4.9.1)\n",
            "Requirement already satisfied: six>=1.6.1 in /usr/local/lib/python3.11/dist-packages (from oauth2client) (1.17.0)\n",
            "Requirement already satisfied: httpx>=0.23.0 in /usr/local/lib/python3.11/dist-packages (from notion-client) (0.28.1)\n",
            "Requirement already satisfied: cachetools<6.0,>=2.0.0 in /usr/local/lib/python3.11/dist-packages (from google-auth>=1.12.0->gspread) (5.5.2)\n",
            "Requirement already satisfied: requests-oauthlib>=0.7.0 in /usr/local/lib/python3.11/dist-packages (from google-auth-oauthlib>=0.4.1->gspread) (2.0.0)\n",
            "Requirement already satisfied: pyparsing!=3.0.0,!=3.0.1,!=3.0.2,!=3.0.3,<4,>=2.4.2 in /usr/local/lib/python3.11/dist-packages (from httplib2>=0.9.1->oauth2client) (3.2.3)\n",
            "Requirement already satisfied: anyio in /usr/local/lib/python3.11/dist-packages (from httpx>=0.23.0->notion-client) (4.9.0)\n",
            "Requirement already satisfied: certifi in /usr/local/lib/python3.11/dist-packages (from httpx>=0.23.0->notion-client) (2025.6.15)\n",
            "Requirement already satisfied: httpcore==1.* in /usr/local/lib/python3.11/dist-packages (from httpx>=0.23.0->notion-client) (1.0.9)\n",
            "Requirement already satisfied: idna in /usr/local/lib/python3.11/dist-packages (from httpx>=0.23.0->notion-client) (3.10)\n",
            "Requirement already satisfied: h11>=0.16 in /usr/local/lib/python3.11/dist-packages (from httpcore==1.*->httpx>=0.23.0->notion-client) (0.16.0)\n",
            "Requirement already satisfied: oauthlib>=3.0.0 in /usr/local/lib/python3.11/dist-packages (from requests-oauthlib>=0.7.0->google-auth-oauthlib>=0.4.1->gspread) (3.2.2)\n",
            "Requirement already satisfied: requests>=2.0.0 in /usr/local/lib/python3.11/dist-packages (from requests-oauthlib>=0.7.0->google-auth-oauthlib>=0.4.1->gspread) (2.32.3)\n",
            "Requirement already satisfied: sniffio>=1.1 in /usr/local/lib/python3.11/dist-packages (from anyio->httpx>=0.23.0->notion-client) (1.3.1)\n",
            "Requirement already satisfied: typing_extensions>=4.5 in /usr/local/lib/python3.11/dist-packages (from anyio->httpx>=0.23.0->notion-client) (4.14.0)\n",
            "Requirement already satisfied: charset-normalizer<4,>=2 in /usr/local/lib/python3.11/dist-packages (from requests>=2.0.0->requests-oauthlib>=0.7.0->google-auth-oauthlib>=0.4.1->gspread) (3.4.2)\n",
            "Requirement already satisfied: urllib3<3,>=1.21.1 in /usr/local/lib/python3.11/dist-packages (from requests>=2.0.0->requests-oauthlib>=0.7.0->google-auth-oauthlib>=0.4.1->gspread) (2.4.0)\n"
          ]
        }
      ]
    },
    {
      "cell_type": "code",
      "source": [
        "# ✅ BLOCK 1: Mount Google Drive\n",
        "# --------------------------------------------------\n",
        "# เชื่อม Google Colab กับ Google Drive\n",
        "# เพื่อเข้าถึงไฟล์เช่น .env หรือ service_account.json\n",
        "# --------------------------------------------------\n",
        "\n",
        "from google.colab import drive\n",
        "drive.mount('/content/drive', force_remount=True)"
      ],
      "metadata": {
        "colab": {
          "base_uri": "https://localhost:8080/"
        },
        "id": "VFFkbsJ3N7A3",
        "outputId": "cdb6d80d-9f03-43d9-f6cf-d81498d76dd3"
      },
      "execution_count": 59,
      "outputs": [
        {
          "output_type": "stream",
          "name": "stdout",
          "text": [
            "Mounted at /content/drive\n"
          ]
        }
      ]
    },
    {
      "cell_type": "code",
      "source": [
        "# ✅ BLOCK 2: Load .env และดึงค่าตัวแปรสำคัญ\n",
        "# --------------------------------------------------\n",
        "# - ใช้สำหรับโหลดค่าที่ตั้งไว้ในไฟล์ .env เช่น:\n",
        "#   SHEET_ID, NOTION_TOKEN, NOTION_DB_ID\n",
        "# - ปลอดภัยกว่าการเขียน Token ลงในโค้ดโดยตรง\n",
        "# --------------------------------------------------\n",
        "\n",
        "from dotenv import load_dotenv\n",
        "import os\n",
        "\n",
        "# 📂 กำหนด path ของ .env ที่เก็บอยู่ใน Google Drive\n",
        "env_path = \"/content/drive/MyDrive/GAS_Automation_Hub/Automation_Keys/Notion_Expense/.env\"\n",
        "load_dotenv(dotenv_path=env_path)\n",
        "\n",
        "# 🎯 โหลดค่าจาก .env\n",
        "SHEET_ID = os.getenv(\"SHEET_ID\")\n",
        "NOTION_TOKEN = os.getenv(\"NOTION_TOKEN\")\n",
        "NOTION_DB_ID = os.getenv(\"NOTION_DB_ID\")\n",
        "\n",
        "# ✅ ตรวจสอบว่าโหลดตัวแปรมาครบไหม\n",
        "print(\"SHEET_ID =\", SHEET_ID)\n",
        "print(\"NOTION_TOKEN =\", \"✔️ Loaded\" if NOTION_TOKEN else \"❌ Missing\")\n",
        "print(\"NOTION_DB_ID =\", \"✔️ Loaded\" if NOTION_DB_ID else \"❌ Missing\")"
      ],
      "metadata": {
        "colab": {
          "base_uri": "https://localhost:8080/"
        },
        "id": "RdFvFvH1OEEA",
        "outputId": "2d86abf5-6603-4e28-8bf5-5605a5686950"
      },
      "execution_count": 46,
      "outputs": [
        {
          "output_type": "stream",
          "name": "stdout",
          "text": [
            "SHEET_ID = 1j9GE9KsQnZdUVohsDJ9e97FDqQC-g1-Cv81L1olnHu4\n",
            "NOTION_TOKEN = ✔️ Loaded\n",
            "NOTION_DB_ID = ✔️ Loaded\n"
          ]
        }
      ]
    },
    {
      "cell_type": "code",
      "source": [
        "# ✅ BLOCK 3: ตั้ง path และตรวจสอบไฟล์ service_account.json\n",
        "# --------------------------------------------------\n",
        "# - ใช้สำหรับยืนยันตัวตนเพื่อให้ Python เข้าถึง Google Sheet ผ่าน API\n",
        "# - ได้มาจาก Google Cloud Console (ไฟล์ JSON)\n",
        "# --------------------------------------------------\n",
        "\n",
        "# 🛠 ตั้ง path ให้ตรงกับที่คุณ find เจอจริง ๆ\n",
        "service_account_path = \"/content/drive/MyDrive/GAS_Automation_Hub/Automation_Keys/Notion_Expense/service_account.json\"\n",
        "\n",
        "# ✅ ตรวจสอบว่าไฟล์นี้อยู่จริงใน Google Drive\n",
        "import os\n",
        "print(\"service_account.json exists ✅:\", os.path.exists(service_account_path))"
      ],
      "metadata": {
        "colab": {
          "base_uri": "https://localhost:8080/"
        },
        "id": "fookcAH4OT2J",
        "outputId": "50e7b134-6c0d-4e4b-f8a3-26792bf9e067"
      },
      "execution_count": 47,
      "outputs": [
        {
          "output_type": "stream",
          "name": "stdout",
          "text": [
            "service_account.json exists ✅: True\n"
          ]
        }
      ]
    },
    {
      "cell_type": "code",
      "source": [
        "# ✅ BLOCK 4: เชื่อมต่อ Google Sheet ด้วย gspread\n",
        "# --------------------------------------------------\n",
        "# - ใช้ credentials จาก service_account.json เพื่อ authorize\n",
        "# - เชื่อม Google Sheet ด้วย SHEET_ID ที่ดึงมาจาก .env\n",
        "# --------------------------------------------------\n",
        "\n",
        "import gspread\n",
        "from oauth2client.service_account import ServiceAccountCredentials\n",
        "\n",
        "# 🔐 ระบุ scope ที่ให้สิทธิ์ Google Sheet + Drive\n",
        "scope = [\"https://spreadsheets.google.com/feeds\", \"https://www.googleapis.com/auth/drive\"]\n",
        "\n",
        "# 🗝️ โหลด credential จาก service_account.json และ authorize\n",
        "creds = ServiceAccountCredentials.from_json_keyfile_name(service_account_path, scope)\n",
        "client = gspread.authorize(creds)\n",
        "\n",
        "# 📄 เปิด Google Sheet จาก SHEET_ID และเปิด Sheet แรก (.sheet1)\n",
        "sheet = client.open_by_key(SHEET_ID).sheet1\n",
        "\n",
        "# ✅ ทดสอบว่าเชื่อมต่อได้จริงไหม\n",
        "print(\"🔗 Connected to Google Sheet:\", sheet.title)"
      ],
      "metadata": {
        "colab": {
          "base_uri": "https://localhost:8080/"
        },
        "id": "Gn6ybMBFOdII",
        "outputId": "21fb5b5b-5345-4a72-8bbd-3c88b394eb5f"
      },
      "execution_count": 48,
      "outputs": [
        {
          "output_type": "stream",
          "name": "stdout",
          "text": [
            "🔗 Connected to Google Sheet: Sheet1\n"
          ]
        }
      ]
    },
    {
      "cell_type": "code",
      "source": [
        "# ✅ BLOCK 5: ฟังก์ชันบันทึกข้อความลง Google Sheet\n",
        "# --------------------------------------------------\n",
        "# - ใช้เมื่อมีข้อความจากผู้ใช้ (เช่นผ่าน LINE หรืออื่น ๆ)\n",
        "# - จะบันทึก [เวลา, user_id, ข้อความ, Synced?=NO] ลงไปใน Sheet\n",
        "# --------------------------------------------------\n",
        "\n",
        "import datetime\n",
        "\n",
        "def log_message(user_id, message):\n",
        "    # 📆 บันทึกเวลาปัจจุบันในรูปแบบ ISO (เช่น 2025-06-19T15:10:01)\n",
        "    now = datetime.datetime.now().isoformat()\n",
        "\n",
        "    # 📝 เพิ่มแถวใหม่ลง Sheet: [เวลา, user_id, ข้อความ, Synced?]\n",
        "    sheet.append_row([now, user_id, message, \"NO\"])\n",
        "\n",
        "    print(f\"✅ Logged: [{now}] {user_id} → {message}\")"
      ],
      "metadata": {
        "id": "Cl4Zs8gmPF4t"
      },
      "execution_count": 50,
      "outputs": []
    },
    {
      "cell_type": "code",
      "source": [
        "# ✅ BLOCK 6: Sync Google Sheet → Notion (รองรับหลายหมวด)\n",
        "from notion_client import Client\n",
        "notion = Client(auth=NOTION_TOKEN)\n",
        "\n",
        "# ✅ Mapping หมวดหมู่ → Database ID จาก .env\n",
        "category_db_map = {\n",
        "    \"ข้าว\": os.getenv(\"NOTION_DB_ID_FOOD\"),\n",
        "    \"น้ำ\": os.getenv(\"NOTION_DB_ID_FOOD\"),\n",
        "    \"ผัก\": os.getenv(\"NOTION_DB_ID_GROCERIES\"),\n",
        "    \"ของใช้\": os.getenv(\"NOTION_DB_ID_SHOPPING\"),\n",
        "    \"รถ\": os.getenv(\"NOTION_DB_ID_TRANSPORT\"),\n",
        "    \"หนัง\": os.getenv(\"NOTION_DB_ID_ENTERTAINMENT\"),\n",
        "    \"ค่าไฟ\": os.getenv(\"NOTION_DB_ID_UTILITIES\"),\n",
        "    \"ออกกำลัง\": os.getenv(\"NOTION_DB_ID_HEALTH\"),\n",
        "    \"บ้าน\": os.getenv(\"NOTION_DB_ID_HOME\"),\n",
        "    \"ออมเงิน\": os.getenv(\"NOTION_DB_ID_SAVINGS\"),\n",
        "    \"ดินเนอร์\": os.getenv(\"NOTION_DB_ID_SPECIALDINNER\"),\n",
        "    \"ตัดผม\": os.getenv(\"NOTION_DB_ID_HAIRCUT\"),\n",
        "    \"เงินสด\": os.getenv(\"NOTION_DB_ID_CASH\"),\n",
        "    \"พัฒนา\": os.getenv(\"NOTION_DB_ID_SELFIMPROVEMENT\"),\n",
        "    \"บริจาค\": os.getenv(\"NOTION_DB_ID_DONATION\"),\n",
        "}\n",
        "\n",
        "# ✅ แปลงข้อความเป็น (หมวด, จำนวนเงิน)\n",
        "def parse_message(text):\n",
        "    try:\n",
        "        parts = text.strip().split()\n",
        "        if len(parts) == 2:\n",
        "            category = parts[0]\n",
        "            amount = float(parts[1])\n",
        "            return category, amount\n",
        "        elif len(parts) == 1:\n",
        "            return parts[0], 0.0\n",
        "        else:\n",
        "            return None, None\n",
        "    except:\n",
        "        return None, None\n",
        "\n",
        "# ✅ ส่งข้อมูลไปยัง Notion (ตามหมวด)\n",
        "def push_to_notion(category, amount):\n",
        "    db_id = category_db_map.get(category)\n",
        "    if not db_id:\n",
        "        print(f\"❌ ไม่พบ Database สำหรับหมวด '{category}'\")\n",
        "        return\n",
        "\n",
        "    notion.pages.create(\n",
        "        parent={\"database_id\": db_id},\n",
        "        properties={\n",
        "            \"Name\": {\"title\": [{\"text\": {\"content\": category}}]},\n",
        "            \"Amount\": {\"number\": amount}\n",
        "        }\n",
        "    )\n",
        "\n",
        "# ✅ Loop จาก Sheet → ถ้ายังไม่ Synced → ส่งไปยังหมวดนั้นใน Notion\n",
        "def sync_sheet_to_notion():\n",
        "    data = sheet.get_all_records()\n",
        "    for idx, row in enumerate(data):\n",
        "        if row['Synced?'].strip().upper() != \"NO\":\n",
        "            continue\n",
        "\n",
        "        category, amount = parse_message(row['Message'])\n",
        "        if not category or amount is None:\n",
        "            print(f\"❌ Format ผิดที่ row {idx+2}: {row['Message']}\")\n",
        "            continue\n",
        "\n",
        "        try:\n",
        "            push_to_notion(category, amount)\n",
        "            sheet.update_cell(idx + 2, 4, \"YES\")\n",
        "            print(f\"✅ Synced row {idx+2}: {category} {amount}\")\n",
        "        except Exception as e:\n",
        "            print(f\"🚨 Error at row {idx+2}: {e}\")\n"
      ],
      "metadata": {
        "id": "3aEckiYvPeWC"
      },
      "execution_count": 58,
      "outputs": []
    }
  ],
  "metadata": {
    "colab": {
      "name": "ยินดีต้อนรับสู่ Colab",
      "toc_visible": true,
      "provenance": [],
      "include_colab_link": true
    },
    "kernelspec": {
      "display_name": "Python 3",
      "name": "python3"
    }
  },
  "nbformat": 4,
  "nbformat_minor": 0
}