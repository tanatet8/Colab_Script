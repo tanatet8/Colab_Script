{
  "cells": [
    {
      "cell_type": "markdown",
      "metadata": {
        "id": "view-in-github",
        "colab_type": "text"
      },
      "source": [
        "<a href=\"https://colab.research.google.com/github/tanatet8/Colab_Script/blob/main/notion_expense_sync_final.ipynb\" target=\"_parent\"><img src=\"https://colab.research.google.com/assets/colab-badge.svg\" alt=\"Open In Colab\"/></a>"
      ]
    },
    {
      "cell_type": "code",
      "source": [
        "# 🔢 Block 1: ติดตั้งไลบรารี\n",
        "!pip install gspread oauth2client notion-client python-dotenv"
      ],
      "metadata": {
        "colab": {
          "base_uri": "https://localhost:8080/"
        },
        "id": "2-5MXm71OU7O",
        "outputId": "7321be4b-4eb9-43b1-8e98-ef689319a089"
      },
      "execution_count": 1,
      "outputs": [
        {
          "output_type": "stream",
          "name": "stdout",
          "text": [
            "Requirement already satisfied: gspread in /usr/local/lib/python3.11/dist-packages (6.2.1)\n",
            "Requirement already satisfied: oauth2client in /usr/local/lib/python3.11/dist-packages (4.1.3)\n",
            "Requirement already satisfied: notion-client in /usr/local/lib/python3.11/dist-packages (2.4.0)\n",
            "Requirement already satisfied: python-dotenv in /usr/local/lib/python3.11/dist-packages (1.1.0)\n",
            "Requirement already satisfied: google-auth>=1.12.0 in /usr/local/lib/python3.11/dist-packages (from gspread) (2.38.0)\n",
            "Requirement already satisfied: google-auth-oauthlib>=0.4.1 in /usr/local/lib/python3.11/dist-packages (from gspread) (1.2.2)\n",
            "Requirement already satisfied: httplib2>=0.9.1 in /usr/local/lib/python3.11/dist-packages (from oauth2client) (0.22.0)\n",
            "Requirement already satisfied: pyasn1>=0.1.7 in /usr/local/lib/python3.11/dist-packages (from oauth2client) (0.6.1)\n",
            "Requirement already satisfied: pyasn1-modules>=0.0.5 in /usr/local/lib/python3.11/dist-packages (from oauth2client) (0.4.2)\n",
            "Requirement already satisfied: rsa>=3.1.4 in /usr/local/lib/python3.11/dist-packages (from oauth2client) (4.9.1)\n",
            "Requirement already satisfied: six>=1.6.1 in /usr/local/lib/python3.11/dist-packages (from oauth2client) (1.17.0)\n",
            "Requirement already satisfied: httpx>=0.23.0 in /usr/local/lib/python3.11/dist-packages (from notion-client) (0.28.1)\n",
            "Requirement already satisfied: cachetools<6.0,>=2.0.0 in /usr/local/lib/python3.11/dist-packages (from google-auth>=1.12.0->gspread) (5.5.2)\n",
            "Requirement already satisfied: requests-oauthlib>=0.7.0 in /usr/local/lib/python3.11/dist-packages (from google-auth-oauthlib>=0.4.1->gspread) (2.0.0)\n",
            "Requirement already satisfied: pyparsing!=3.0.0,!=3.0.1,!=3.0.2,!=3.0.3,<4,>=2.4.2 in /usr/local/lib/python3.11/dist-packages (from httplib2>=0.9.1->oauth2client) (3.2.3)\n",
            "Requirement already satisfied: anyio in /usr/local/lib/python3.11/dist-packages (from httpx>=0.23.0->notion-client) (4.9.0)\n",
            "Requirement already satisfied: certifi in /usr/local/lib/python3.11/dist-packages (from httpx>=0.23.0->notion-client) (2025.6.15)\n",
            "Requirement already satisfied: httpcore==1.* in /usr/local/lib/python3.11/dist-packages (from httpx>=0.23.0->notion-client) (1.0.9)\n",
            "Requirement already satisfied: idna in /usr/local/lib/python3.11/dist-packages (from httpx>=0.23.0->notion-client) (3.10)\n",
            "Requirement already satisfied: h11>=0.16 in /usr/local/lib/python3.11/dist-packages (from httpcore==1.*->httpx>=0.23.0->notion-client) (0.16.0)\n",
            "Requirement already satisfied: oauthlib>=3.0.0 in /usr/local/lib/python3.11/dist-packages (from requests-oauthlib>=0.7.0->google-auth-oauthlib>=0.4.1->gspread) (3.2.2)\n",
            "Requirement already satisfied: requests>=2.0.0 in /usr/local/lib/python3.11/dist-packages (from requests-oauthlib>=0.7.0->google-auth-oauthlib>=0.4.1->gspread) (2.32.3)\n",
            "Requirement already satisfied: sniffio>=1.1 in /usr/local/lib/python3.11/dist-packages (from anyio->httpx>=0.23.0->notion-client) (1.3.1)\n",
            "Requirement already satisfied: typing_extensions>=4.5 in /usr/local/lib/python3.11/dist-packages (from anyio->httpx>=0.23.0->notion-client) (4.14.0)\n",
            "Requirement already satisfied: charset-normalizer<4,>=2 in /usr/local/lib/python3.11/dist-packages (from requests>=2.0.0->requests-oauthlib>=0.7.0->google-auth-oauthlib>=0.4.1->gspread) (3.4.2)\n",
            "Requirement already satisfied: urllib3<3,>=1.21.1 in /usr/local/lib/python3.11/dist-packages (from requests>=2.0.0->requests-oauthlib>=0.7.0->google-auth-oauthlib>=0.4.1->gspread) (2.4.0)\n"
          ]
        }
      ]
    },
    {
      "cell_type": "code",
      "source": [
        "# 🔢 Block 2: Mount Google Drive และโหลด .env\n",
        "from google.colab import drive\n",
        "drive.mount('/content/drive')\n",
        "\n",
        "from dotenv import load_dotenv\n",
        "import os\n",
        "\n",
        "# ✅ แก้ตรงนี้ให้ถูก\n",
        "env_path = \"/content/drive/MyDrive/GAS_Automation_Hub/Automation_Keys/Notion_Expense/.env\"  # ← ใส่จุดนำหน้า\n",
        "load_dotenv(dotenv_path=env_path, override=True)\n",
        "\n",
        "# โหลดตัวแปรจาก .env\n",
        "SHEET_ID = os.getenv(\"SHEET_ID\")\n",
        "NOTION_TOKEN = os.getenv(\"NOTION_TOKEN\")\n",
        "NOTION_DB_ID = os.getenv(\"NOTION_DB_ID\")\n",
        "\n",
        "# 🔍 ทดสอบ\n",
        "print(\"✅ SHEET_ID =\", SHEET_ID)\n"
      ],
      "metadata": {
        "colab": {
          "base_uri": "https://localhost:8080/"
        },
        "id": "Zh2528A8OYey",
        "outputId": "a2aa5265-bb54-4428-a43a-419336013a09"
      },
      "execution_count": 2,
      "outputs": [
        {
          "output_type": "stream",
          "name": "stdout",
          "text": [
            "Drive already mounted at /content/drive; to attempt to forcibly remount, call drive.mount(\"/content/drive\", force_remount=True).\n",
            "✅ SHEET_ID = 1j9GE9KsQnZdUVohsDJ9e97FDqQC-g1-Cv81L1olnHu4\n"
          ]
        }
      ]
    },
    {
      "cell_type": "code",
      "source": [
        "!ls \"/content/drive/MyDrive/GAS_Automation_Hub/Automation_Keys/Notion_Expense\""
      ],
      "metadata": {
        "colab": {
          "base_uri": "https://localhost:8080/"
        },
        "id": "HkKxCvzvPKvW",
        "outputId": "5929fc76-124b-4268-b398-73387a027d2d"
      },
      "execution_count": 3,
      "outputs": [
        {
          "output_type": "stream",
          "name": "stdout",
          "text": [
            " service_account.json  'Untitled document.gdoc'\n"
          ]
        }
      ]
    },
    {
      "cell_type": "code",
      "source": [
        "# 🔢 Block 3: เชื่อม Google Sheets\n",
        "\n",
        "import gspread\n",
        "from oauth2client.service_account import ServiceAccountCredentials\n",
        "\n",
        "scope = [\"https://spreadsheets.google.com/feeds\", \"https://www.googleapis.com/auth/drive\"]\n",
        "\n",
        "# ❗ แก้ path ให้ตรงกับไฟล์จริง\n",
        "service_account_path = \"/content/drive/MyDrive/GAS_Automation_Hub/Automation_Keys/Notion_Expense/service_account.json\"\n",
        "\n",
        "# เชื่อม Google Sheets\n",
        "creds = ServiceAccountCredentials.from_json_keyfile_name(service_account_path, scope)\n",
        "client = gspread.authorize(creds)\n",
        "sheet = client.open_by_key(SHEET_ID).sheet1\n",
        "\n",
        "print(\"✅ เชื่อม Google Sheet สำเร็จ:\", sheet.title)\n"
      ],
      "metadata": {
        "colab": {
          "base_uri": "https://localhost:8080/"
        },
        "id": "2aveA6LyOc0x",
        "outputId": "ae6d5c34-6097-4644-89f0-c1c28012e53f"
      },
      "execution_count": 4,
      "outputs": [
        {
          "output_type": "stream",
          "name": "stdout",
          "text": [
            "✅ เชื่อม Google Sheet สำเร็จ: Sheet1\n"
          ]
        }
      ]
    },
    {
      "cell_type": "code",
      "source": [
        "# 🔢 Block 4: ตั้งค่า keyword + Mapping database สำหรับ Notion\n",
        "dynamic_keywords = {\n",
        "    \"อาหาร\": [\"ข้าว\", \"แกง\", \"ก๋วยเตี๋ยว\", \"กาแฟ\", \"ชา\", \"ไข่\", \"นม\", \"ขนม\", \"โจ๊ก\"],\n",
        "    \"ของใช้\": [\"สบู่\", \"แชมพู\", \"ผ้า\", \"ทิชชู่\", \"ยาสีฟัน\", \"ครีม\"],\n",
        "    \"รถ\": [\"น้ำมัน\", \"รถเมล์\", \"จอดรถ\", \"เติมลม\", \"ค่าทางด่วน\"],\n",
        "    \"สุขภาพ\": [\"ยา\", \"คลินิก\", \"หมอ\", \"ฟิตเนส\"],\n",
        "    \"บริจาค\": [\"ทำบุญ\", \"บริจาค\", \"ถวาย\", \"ตักบาตร\"],\n",
        "    \"เงินสด\": [\"ถอน\", \"เบิก\", \"รับเงิน\", \"โอน\"],\n",
        "}\n",
        "\n",
        "category_to_db_id = {\n",
        "    \"อาหาร\": os.getenv(\"NOTION_DB_ID_FOOD\"),\n",
        "    \"ของใช้\": os.getenv(\"NOTION_DB_ID_SHOPPING\"),\n",
        "    \"รถ\": os.getenv(\"NOTION_DB_ID_TRANSPORT\"),\n",
        "    \"สุขภาพ\": os.getenv(\"NOTION_DB_ID_HEALTH\"),\n",
        "    \"บริจาค\": os.getenv(\"NOTION_DB_ID_DONATION\"),\n",
        "    \"เงินสด\": os.getenv(\"NOTION_DB_ID_CASH\"),\n",
        "}"
      ],
      "metadata": {
        "id": "uKGa2gKROfp0"
      },
      "execution_count": 5,
      "outputs": []
    },
    {
      "cell_type": "code",
      "source": [
        "# 🔢 Block 5: ฟังก์ชันพื้นฐาน → แยกข้อความ + เดาหมวดหมู่\n",
        "def parse_message(text):\n",
        "    try:\n",
        "        parts = text.strip().split()\n",
        "        if len(parts) == 2:\n",
        "            return parts[0], float(parts[1])\n",
        "        elif len(parts) == 1:\n",
        "            return parts[0], 0.0\n",
        "        else:\n",
        "            return None, None\n",
        "    except:\n",
        "        return None, None\n",
        "\n",
        "def find_category(text):\n",
        "    for category, keywords in dynamic_keywords.items():\n",
        "        if any(word in text for word in keywords):\n",
        "            return category\n",
        "    return None\n"
      ],
      "metadata": {
        "id": "9gDNS0rOOiLk"
      },
      "execution_count": 6,
      "outputs": []
    },
    {
      "cell_type": "code",
      "source": [
        "# 🔢 Block 6: เชื่อม Notion และ push ธรรมดา\n",
        "from notion_client import Client\n",
        "notion = Client(auth=NOTION_TOKEN)\n",
        "\n",
        "def push_to_notion(category, amount):\n",
        "    notion.pages.create(\n",
        "        parent={\"database_id\": NOTION_DB_ID},\n",
        "        properties={\n",
        "            \"Categories\": {\"select\": {\"name\": category}},\n",
        "            \"Amount\": {\"number\": amount}\n",
        "        }\n",
        "    )"
      ],
      "metadata": {
        "id": "E_XToz7EOksA"
      },
      "execution_count": 7,
      "outputs": []
    },
    {
      "cell_type": "code",
      "source": [
        "# 🔢 Block 7: sync Google Sheet → Notion (กรณีใช้หมวดชัดเจน)\n",
        "def sync_sheet_to_notion():\n",
        "    data = sheet.get_all_records()\n",
        "    for idx, row in enumerate(data):\n",
        "        if row['Synced?'].strip().upper() != \"NO\":\n",
        "            continue\n",
        "\n",
        "        category, amount = parse_message(row['Message'])\n",
        "        if not category or amount is None:\n",
        "            print(f\"❌ รูปแบบผิด row {idx+2}: {row['Message']}\")\n",
        "            continue\n",
        "\n",
        "        try:\n",
        "            push_to_notion(category, amount)\n",
        "            sheet.update_cell(idx+2, 4, \"YES\")\n",
        "            print(f\"✅ Synced row {idx+2}: {category} {amount}\")\n",
        "        except Exception as e:\n",
        "            print(f\"🚨 Error at row {idx+2}: {e}\")"
      ],
      "metadata": {
        "id": "tYmsUgxlOm2p"
      },
      "execution_count": 8,
      "outputs": []
    },
    {
      "cell_type": "code",
      "source": [
        "# 🔢 Block 8: Push แบบเดาหมวดหมู่จากข้อความ\n",
        "def push_to_notion_dynamic(message):\n",
        "    category, amount = parse_message(message)\n",
        "    if not category or amount is None:\n",
        "        print(f\"❌ ข้อความไม่ถูกต้อง: '{message}'\")\n",
        "        return\n",
        "\n",
        "    guessed_category = find_category(category)\n",
        "    if not guessed_category:\n",
        "        print(f\"⚠️ ไม่พบหมวดสำหรับ '{category}'\")\n",
        "        return\n",
        "\n",
        "    db_id = category_to_db_id.get(guessed_category)\n",
        "    if not db_id:\n",
        "        print(f\"❌ ไม่มี DB สำหรับ '{guessed_category}'\")\n",
        "        return\n",
        "\n",
        "    notion.pages.create(\n",
        "        parent={\"database_id\": db_id},\n",
        "        properties={\n",
        "            \"Name\": {\"title\": [{\"text\": {\"content\": message}}]},\n",
        "            \"Amount\": {\"number\": amount}\n",
        "        }\n",
        "    )\n",
        "    print(f\"✅ ส่งข้อมูลสำเร็จ: '{message}' → '{guessed_category}'\")"
      ],
      "metadata": {
        "id": "vnOU2UnZOpre"
      },
      "execution_count": 9,
      "outputs": []
    },
    {
      "cell_type": "code",
      "source": [
        "# 🔢 Block 9: เก็บคำไม่รู้จักลง Sheet 'Unknown_Categories'\n",
        "def log_unknown_category(message, parsed_category, amount):\n",
        "    try:\n",
        "        unknown_sheet = client.open_by_key(SHEET_ID).worksheet(\"Unknown_Categories\")\n",
        "    except:\n",
        "        print(\"❌ ไม่พบ Sheet 'Unknown_Categories'\")\n",
        "        return\n",
        "\n",
        "    now = datetime.datetime.now().isoformat()\n",
        "    unknown_sheet.append_row([now, message, parsed_category or \"\", amount or \"\"])\n",
        "    print(f\"📥 Logged unknown: '{message}'\")"
      ],
      "metadata": {
        "id": "gml3_-3HOsEh"
      },
      "execution_count": 10,
      "outputs": []
    },
    {
      "cell_type": "code",
      "source": [
        "# 🔢 Block 10: sync ข้อมูลแบบเดาหมวด และเก็บ unknown\n",
        "def sync_sheet_to_notion_dynamic():\n",
        "    data = sheet.get_all_records()\n",
        "    for idx, row in enumerate(data):\n",
        "        if row['Synced?'].strip().upper() != \"NO\":\n",
        "            continue\n",
        "\n",
        "        message = row['Message']\n",
        "        category, amount = parse_message(message)\n",
        "        if not category or amount is None:\n",
        "            print(f\"❌ Format ผิด row {idx+2}: '{message}'\")\n",
        "            continue\n",
        "\n",
        "        guessed_category = find_category(category)\n",
        "        db_id = category_to_db_id.get(guessed_category)\n",
        "\n",
        "        if not guessed_category or not db_id:\n",
        "            print(f\"⚠️ หมวดไม่รู้จัก: '{message}'\")\n",
        "            log_unknown_category(message, category, amount)\n",
        "            continue\n",
        "\n",
        "        try:\n",
        "            notion.pages.create(\n",
        "                parent={\"database_id\": db_id},\n",
        "                properties={\n",
        "                    \"Name\": {\"title\": [{\"text\": {\"content\": message}}]},\n",
        "                    \"Amount\": {\"number\": amount}\n",
        "                }\n",
        "            )\n",
        "            sheet.update_cell(idx + 2, 4, \"YES\")\n",
        "            print(f\"✅ Synced row {idx+2}: '{message}' → '{guessed_category}'\")\n",
        "        except Exception as e:\n",
        "            print(f\"🚨 Error row {idx+2}: {e}\")"
      ],
      "metadata": {
        "id": "UER_4X-IOuLx"
      },
      "execution_count": 11,
      "outputs": []
    },
    {
      "cell_type": "code",
      "source": [
        "# 🔢 Block 11: log & sync ข้อความเดียว (เช่นพิมพ์จาก LINE)\n",
        "def log_and_sync_message(user_id, message):\n",
        "    now = datetime.datetime.now().isoformat()\n",
        "    sheet.append_row([now, user_id, message, \"NO\"])\n",
        "\n",
        "    parsed_text, amount = parse_message(message)\n",
        "    if not parsed_text or amount is None:\n",
        "        return f\"❌ ข้อความผิด: '{message}'\"\n",
        "\n",
        "    guessed_category = find_category(parsed_text)\n",
        "    if not guessed_category:\n",
        "        log_unknown_category(message, parsed_text, amount)\n",
        "        return f\"⚠️ ไม่รู้จักหมวด: '{message}'\"\n",
        "\n",
        "    db_id = category_to_db_id.get(guessed_category)\n",
        "    if not db_id:\n",
        "        return f\"❌ ไม่มี Database ID สำหรับ '{guessed_category}'\"\n",
        "\n",
        "    try:\n",
        "        notion.pages.create(\n",
        "            parent={\"database_id\": db_id},\n",
        "            properties={\n",
        "                \"Name\": {\"title\": [{\"text\": {\"content\": message}}]},\n",
        "                \"Amount\": {\"number\": amount}\n",
        "            }\n",
        "        )\n",
        "        data = sheet.get_all_records()\n",
        "        for i, row in enumerate(data):\n",
        "            if row[\"Message\"] == message and row[\"UserID\"] == user_id:\n",
        "                sheet.update_cell(i + 2, 4, \"YES\")\n",
        "                break\n",
        "\n",
        "        return f\"✅ บันทึกแล้ว: '{message}' → หมวด '{guessed_category}'\"\n",
        "    except Exception as e:\n",
        "        return f\"🚨 เกิดข้อผิดพลาด: {e}\""
      ],
      "metadata": {
        "id": "vvFHLltnOx3F"
      },
      "execution_count": 12,
      "outputs": []
    },
    {
      "cell_type": "code",
      "source": [
        "# 🔧 ติดตั้ง SDK เวอร์ชันเดิม (รองรับ LineBotApi, WebhookHandler)\n",
        "!pip install line-bot-sdk==1.20.0"
      ],
      "metadata": {
        "id": "YntS--NiS6pG",
        "outputId": "37850d69-5d3a-41b5-bfbe-f591650ab3a7",
        "colab": {
          "base_uri": "https://localhost:8080/"
        }
      },
      "execution_count": 13,
      "outputs": [
        {
          "output_type": "stream",
          "name": "stdout",
          "text": [
            "Requirement already satisfied: line-bot-sdk==1.20.0 in /usr/local/lib/python3.11/dist-packages (1.20.0)\n",
            "Requirement already satisfied: requests>=2.0 in /usr/local/lib/python3.11/dist-packages (from line-bot-sdk==1.20.0) (2.32.3)\n",
            "Requirement already satisfied: future in /usr/local/lib/python3.11/dist-packages (from line-bot-sdk==1.20.0) (1.0.0)\n",
            "Requirement already satisfied: charset-normalizer<4,>=2 in /usr/local/lib/python3.11/dist-packages (from requests>=2.0->line-bot-sdk==1.20.0) (3.4.2)\n",
            "Requirement already satisfied: idna<4,>=2.5 in /usr/local/lib/python3.11/dist-packages (from requests>=2.0->line-bot-sdk==1.20.0) (3.10)\n",
            "Requirement already satisfied: urllib3<3,>=1.21.1 in /usr/local/lib/python3.11/dist-packages (from requests>=2.0->line-bot-sdk==1.20.0) (2.4.0)\n",
            "Requirement already satisfied: certifi>=2017.4.17 in /usr/local/lib/python3.11/dist-packages (from requests>=2.0->line-bot-sdk==1.20.0) (2025.6.15)\n"
          ]
        }
      ]
    },
    {
      "cell_type": "code",
      "source": [
        "# Block 12: LINE Messaging API แบบคลาสสิก (v1.x)\n",
        "from linebot import LineBotApi, WebhookHandler\n",
        "from linebot.models import MessageEvent, TextMessage, TextSendMessage\n",
        "import os\n",
        "\n",
        "LINE_CHANNEL_ACCESS_TOKEN = os.getenv(\"LINE_TOKEN\")\n",
        "LINE_CHANNEL_SECRET = os.getenv(\"LINE_CHANNEL_SECRET\")\n",
        "\n",
        "line_bot_api = LineBotApi(LINE_CHANNEL_ACCESS_TOKEN)\n",
        "handler = WebhookHandler(LINE_CHANNEL_SECRET)"
      ],
      "metadata": {
        "id": "xRcDCX19Sm0u"
      },
      "execution_count": 14,
      "outputs": []
    },
    {
      "cell_type": "code",
      "source": [
        "# 🔢 Block 13: Handle ข้อความจาก LINE + log + ตอบกลับ\n",
        "@handler.add(MessageEvent, message=TextMessage)\n",
        "def handle_message(event):\n",
        "    user_id = event.source.user_id\n",
        "    msg = event.message.text\n",
        "\n",
        "    # ✅ Log ข้อความจาก user\n",
        "    log_conversation(user_id, \"user\", msg)\n",
        "\n",
        "    # ✅ ตอบกลับด้วยฟังก์ชันรวม\n",
        "    reply = log_and_sync_message(user_id, msg)\n",
        "\n",
        "    # ✅ Log ข้อความจาก bot\n",
        "    log_conversation(user_id, \"bot\", reply)\n",
        "\n",
        "    # ✅ ตอบกลับผ่าน LINE\n",
        "    line_bot_api.reply_message(\n",
        "        event.reply_token,\n",
        "        TextSendMessage(text=reply)\n",
        "    )"
      ],
      "metadata": {
        "id": "aENRCMuYSrNC"
      },
      "execution_count": 15,
      "outputs": []
    }
  ],
  "metadata": {
    "colab": {
      "name": "ยินดีต้อนรับสู่ Colab",
      "toc_visible": true,
      "provenance": [],
      "include_colab_link": true
    },
    "kernelspec": {
      "display_name": "Python 3",
      "name": "python3"
    }
  },
  "nbformat": 4,
  "nbformat_minor": 0
}