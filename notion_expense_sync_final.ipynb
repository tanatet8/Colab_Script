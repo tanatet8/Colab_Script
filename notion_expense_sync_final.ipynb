{
  "cells": [
    {
      "cell_type": "markdown",
      "metadata": {
        "id": "view-in-github",
        "colab_type": "text"
      },
      "source": [
        "<a href=\"https://colab.research.google.com/github/tanatet8/Colab_Script/blob/main/notion_expense_sync_final.ipynb\" target=\"_parent\"><img src=\"https://colab.research.google.com/assets/colab-badge.svg\" alt=\"Open In Colab\"/></a>"
      ]
    },
    {
      "cell_type": "code",
      "source": [
        "# ✅ 1. ติดตั้งไลบรารีที่ต้องใช้\n",
        "!pip install gspread oauth2client notion-client python-dotenv"
      ],
      "metadata": {
        "id": "P4xje4lCDXJ5"
      },
      "execution_count": null,
      "outputs": []
    },
    {
      "cell_type": "code",
      "source": [
        "# ✅ 2. Mount Google Drive และโหลด .env\n",
        "from google.colab import drive\n",
        "drive.mount('/content/drive')\n",
        "\n",
        "from dotenv import load_dotenv\n",
        "import os\n",
        "\n",
        "env_path = '/content/drive/MyDrive/Automation_Keys/Notion_Expense/.env'\n",
        "load_dotenv(dotenv_path=env_path)\n",
        "\n",
        "# ✅ โหลดค่าจาก .env\n",
        "NOTION_TOKEN = os.getenv(\"NOTION_TOKEN\")\n",
        "NOTION_DB_ID = os.getenv(\"NOTION_DB_ID\")\n",
        "SHEET_ID = os.getenv(\"SHEET_ID\")"
      ],
      "metadata": {
        "id": "SGQH9TI6DcWx"
      },
      "execution_count": null,
      "outputs": []
    },
    {
      "cell_type": "code",
      "source": [
        "# ✅ Dynamic Keyword สำหรับเดาค่าใช้จ่าย\n",
        "dynamic_keywords = {\n",
        "    \"อาหาร\": [\"ข้าว\", \"แกง\", \"ก๋วยเตี๋ยว\", \"กาแฟ\", \"ชา\", \"ไข่\", \"นม\", \"ขนม\", \"โจ๊ก\"],\n",
        "    \"ของใช้\": [\"สบู่\", \"แชมพู\", \"ผ้า\", \"ทิชชู่\", \"ยาสีฟัน\", \"ครีม\"],\n",
        "    \"รถ\": [\"น้ำมัน\", \"รถเมล์\", \"จอดรถ\", \"เติมลม\", \"ค่าทางด่วน\"],\n",
        "    \"สุขภาพ\": [\"ยา\", \"คลินิก\", \"หมอ\", \"ฟิตเนส\"],\n",
        "    \"บริจาค\": [\"ทำบุญ\", \"บริจาค\", \"ถวาย\", \"ตักบาตร\"],\n",
        "    \"เงินสด\": [\"ถอน\", \"เบิก\", \"รับเงิน\", \"โอน\"],\n",
        "}\n",
        "\n",
        "# ✅ Mapping หมวด → Notion Database ID\n",
        "category_to_db_id = {\n",
        "    \"อาหาร\": os.getenv(\"NOTION_DB_ID_FOOD\"),\n",
        "    \"ของใช้\": os.getenv(\"NOTION_DB_ID_SHOPPING\"),\n",
        "    \"รถ\": os.getenv(\"NOTION_DB_ID_TRANSPORT\"),\n",
        "    \"สุขภาพ\": os.getenv(\"NOTION_DB_ID_HEALTH\"),\n",
        "    \"บริจาค\": os.getenv(\"NOTION_DB_ID_DONATION\"),\n",
        "    \"เงินสด\": os.getenv(\"NOTION_DB_ID_CASH\"),\n",
        "}"
      ],
      "metadata": {
        "id": "s0olRFp3hkzM"
      },
      "execution_count": 66,
      "outputs": []
    },
    {
      "cell_type": "code",
      "source": [
        "# ✅ BLOCK 3: เชื่อม Google Sheets ด้วย service_account.json ที่อยู่ใน Drive\n",
        "# -------------------------------------------------------------------\n",
        "# ใช้ไฟล์ JSON จาก Google Cloud เพื่อ authorize กับ Google Sheets API\n",
        "# เราจะใช้ path เดียวกับที่ .env อยู่เพื่อความยืดหยุ่น\n",
        "# -------------------------------------------------------------------\n",
        "\n",
        "import gspread\n",
        "from oauth2client.service_account import ServiceAccountCredentials\n",
        "import os\n",
        "\n",
        "# ✅ กำหนด scope สำหรับ Sheets และ Drive\n",
        "scope = [\n",
        "    \"https://spreadsheets.google.com/feeds\",\n",
        "    \"https://www.googleapis.com/auth/drive\"\n",
        "]\n",
        "\n",
        "# ✅ ใช้ path เดียวกับ .env → จะปลอดภัยและยืดหยุ่น\n",
        "service_account_path = os.path.join(os.path.dirname(env_path), \"service_account.json\")\n",
        "\n",
        "# ✅ ตรวจสอบว่าไฟล์นี้มีจริง\n",
        "print(\"🗂️ service_account.json found ✅:\", os.path.exists(service_account_path))\n",
        "\n",
        "# ✅ โหลด credentials และเชื่อมต่อกับ Google Sheets API\n",
        "creds = ServiceAccountCredentials.from_json_keyfile_name(service_account_path, scope)\n",
        "client = gspread.authorize(creds)\n",
        "\n",
        "# ✅ เปิด Sheet ด้วย SHEET_ID จาก .env\n",
        "sheet = client.open_by_key(SHEET_ID).sheet1\n",
        "\n",
        "# ✅ ทดสอบชื่อ sheet\n",
        "print(\"📄 Connected to Sheet:\", sheet.title)"
      ],
      "metadata": {
        "id": "Dn0JCgPeDgcK",
        "colab": {
          "base_uri": "https://localhost:8080/"
        },
        "outputId": "33626753-4fcb-4534-ec9b-5c39f5bfbfbb"
      },
      "execution_count": 70,
      "outputs": [
        {
          "output_type": "stream",
          "name": "stdout",
          "text": [
            "🗂️ service_account.json found ✅: True\n",
            "📄 Connected to Sheet: Sheet1\n"
          ]
        }
      ]
    },
    {
      "cell_type": "code",
      "source": [
        "# ✅ 4. ฟังก์ชันแปลงข้อความ [หมวดหมู่] [จำนวนเงิน]\n",
        "def parse_message(text):\n",
        "    try:\n",
        "        parts = text.strip().split()\n",
        "        if len(parts) == 2:\n",
        "            category = parts[0]\n",
        "            amount = float(parts[1])\n",
        "            return category, amount\n",
        "        elif len(parts) == 1:\n",
        "            return parts[0], 0.0  # เผื่อพิมพ์หมวดหมู่อย่างเดียว\n",
        "        else:\n",
        "            return None, None\n",
        "    except:\n",
        "        return None, None"
      ],
      "metadata": {
        "id": "G3RPYZIkDnO6"
      },
      "execution_count": null,
      "outputs": []
    },
    {
      "cell_type": "code",
      "source": [
        "# ✅ 5. เชื่อมต่อ Notion API\n",
        "from notion_client import Client\n",
        "\n",
        "notion = Client(auth=NOTION_TOKEN)\n",
        "\n",
        "def push_to_notion(category, amount):\n",
        "    notion.pages.create(\n",
        "        parent={\"database_id\": NOTION_DB_ID},\n",
        "        properties={\n",
        "            \"Categories\": {\"select\": {\"name\": category}},\n",
        "            \"Amount\": {\"number\": amount}\n",
        "        }\n",
        "    )"
      ],
      "metadata": {
        "id": "tbU4Ewk7DogY"
      },
      "execution_count": null,
      "outputs": []
    },
    {
      "cell_type": "code",
      "source": [
        "# ✅ 6. ฟังก์ชัน Sync Google Sheet → Notion\n",
        "def sync_sheet_to_notion():\n",
        "    data = sheet.get_all_records()\n",
        "    for idx, row in enumerate(data):\n",
        "        if row['Synced?'].strip().upper() != \"NO\":\n",
        "            continue\n",
        "\n",
        "        category, amount = parse_message(row['Message'])\n",
        "        if not category or amount is None:\n",
        "            print(f\"❌ Format ผิดที่ row {idx+2}: {row['Message']}\")\n",
        "            continue\n",
        "\n",
        "        try:\n",
        "            push_to_notion(category, amount)\n",
        "            sheet.update_cell(idx+2, 4, \"YES\")\n",
        "            print(f\"✅ Synced row {idx+2}: {category} {amount}\")\n",
        "        except Exception as e:\n",
        "            print(f\"🚨 Error at row {idx+2}: {e}\")"
      ],
      "metadata": {
        "id": "_cDN-nZ5Dr4F"
      },
      "execution_count": null,
      "outputs": []
    },
    {
      "cell_type": "code",
      "source": [
        "# ✅ 7. บันทึกข้อความจาก Line ลง Google Sheet\n",
        "import datetime\n",
        "\n",
        "def log_message(user_id, message):\n",
        "    now = datetime.datetime.now().isoformat()\n",
        "    sheet.append_row([now, user_id, message, \"NO\"])  # เพิ่มแถวใหม่ลง Google Sheet"
      ],
      "metadata": {
        "id": "pvsmCqQaDv6S"
      },
      "execution_count": null,
      "outputs": []
    },
    {
      "cell_type": "code",
      "source": [
        "# ✅ ฟังก์ชันส่งข้อมูลเข้า Notion แบบเดาหมวดหมู่จาก keyword\n",
        "def push_to_notion_dynamic(message):\n",
        "    # แปลงข้อความ เช่น \"ข้าวมันไก่ 50\" → (\"ข้าวมันไก่\", 50.0)\n",
        "    category, amount = parse_message(message)\n",
        "\n",
        "    if not category or amount is None:\n",
        "        print(f\"❌ รูปแบบข้อความไม่ถูกต้อง: '{message}'\")\n",
        "        return\n",
        "\n",
        "    # เดาหมวดหมู่จาก keyword ในข้อความ\n",
        "    guessed_category = find_category(category)\n",
        "\n",
        "    if not guessed_category:\n",
        "        print(f\"⚠️ ไม่พบหมวดที่เหมาะกับ: '{category}' → ยังไม่สามารถส่งไป Notion ได้\")\n",
        "        return\n",
        "\n",
        "    db_id = category_to_db_id.get(guessed_category)\n",
        "\n",
        "    if not db_id:\n",
        "        print(f\"❌ ไม่พบ Database ID สำหรับหมวด '{guessed_category}'\")\n",
        "        return\n",
        "\n",
        "    # สร้างข้อมูลใหม่ใน Notion\n",
        "    notion.pages.create(\n",
        "        parent={\"database_id\": db_id},\n",
        "        properties={\n",
        "            \"Name\": {\"title\": [{\"text\": {\"content\": message}}]},\n",
        "            \"Amount\": {\"number\": amount}\n",
        "        }\n",
        "    )\n",
        "\n",
        "    print(f\"✅ ส่งข้อมูลสำเร็จ: '{message}' → หมวด '{guessed_category}'\")"
      ],
      "metadata": {
        "id": "hhHzFYWrjbbN"
      },
      "execution_count": 71,
      "outputs": []
    },
    {
      "cell_type": "code",
      "source": [
        "# ✅ Block 6 (เดิม) ยังมีพวก:\n",
        "# def parse_message(...)\n",
        "# def push_to_notion(...)\n",
        "# def sync_sheet_to_notion(...)\n",
        "\n",
        "# ⬇️ แล้วเพิ่มต่อท้ายได้เลยแบบนี้:\n",
        "def find_category(text):\n",
        "    for category, keywords in dynamic_keywords.items():\n",
        "        if any(word in text for word in keywords):\n",
        "            return category\n",
        "    return None"
      ],
      "metadata": {
        "id": "zyVSZQ0th9mv"
      },
      "execution_count": 68,
      "outputs": []
    },
    {
      "cell_type": "code",
      "source": [
        "# ✅ Sync Google Sheet → Notion โดยเดาหมวด และ log คำไม่รู้จัก\n",
        "def sync_sheet_to_notion_dynamic():\n",
        "    data = sheet.get_all_records()\n",
        "\n",
        "    for idx, row in enumerate(data):\n",
        "        # ✅ ข้ามแถวที่เคย sync ไปแล้ว\n",
        "        if row['Synced?'].strip().upper() != \"NO\":\n",
        "            continue\n",
        "\n",
        "        message = row['Message']\n",
        "\n",
        "        # ✅ แยกข้อความ เช่น \"แกงเขียวหวาน 65\" → (\"แกงเขียวหวาน\", 65.0)\n",
        "        category, amount = parse_message(message)\n",
        "        if not category or amount is None:\n",
        "            print(f\"❌ รูปแบบไม่ถูกต้อง ที่ row {idx+2}: '{message}'\")\n",
        "            continue\n",
        "\n",
        "        # ✅ เดาหมวดจากข้อความ (หาใน dynamic_keywords)\n",
        "        guessed_category = find_category(category)\n",
        "        db_id = category_to_db_id.get(guessed_category)\n",
        "\n",
        "        if not guessed_category or not db_id:\n",
        "            print(f\"⚠️ ไม่สามารถส่ง '{message}' ไปยัง Notion ได้ (หมวดไม่รู้จัก)\")\n",
        "            log_unknown_category(message, category, amount)\n",
        "            continue\n",
        "\n",
        "        try:\n",
        "            notion.pages.create(\n",
        "                parent={\"database_id\": db_id},\n",
        "                properties={\n",
        "                    \"Name\": {\"title\": [{\"text\": {\"content\": message}}]},\n",
        "                    \"Amount\": {\"number\": amount}\n",
        "                }\n",
        "            )\n",
        "\n",
        "            # ✅ อัปเดตสถานะใน Google Sheet เป็น \"YES\"\n",
        "            sheet.update_cell(idx + 2, 4, \"YES\")\n",
        "            print(f\"✅ Synced row {idx+2}: '{message}' → หมวด '{guessed_category}'\")\n",
        "\n",
        "        except Exception as e:\n",
        "            print(f\"🚨 Error at row {idx+2}: {e}\")\n"
      ],
      "metadata": {
        "id": "-vzENZK4j1Ml"
      },
      "execution_count": 81,
      "outputs": []
    },
    {
      "cell_type": "code",
      "source": [
        "# ✅ Log คำที่ไม่รู้จักลง Sheet 'Unknown_Categories'\n",
        "def log_unknown_category(message, parsed_category, amount):\n",
        "    try:\n",
        "        unknown_sheet = client.open_by_key(SHEET_ID).worksheet(\"Unknown_Categories\")\n",
        "    except:\n",
        "        print(\"❌ ไม่พบ Sheet ชื่อ 'Unknown_Categories'\")\n",
        "        return\n",
        "\n",
        "    now = datetime.datetime.now().isoformat()\n",
        "    unknown_sheet.append_row([now, message, parsed_category or \"\", amount or \"\"])\n",
        "    print(f\"📥 Logged unknown: '{message}'\")"
      ],
      "metadata": {
        "id": "1NIsfh_Glq8d"
      },
      "execution_count": 76,
      "outputs": []
    },
    {
      "cell_type": "code",
      "source": [
        "# ✅ ฟังก์ชันสำหรับ log ข้อความที่ไม่เข้า keyword ไว้ใน Sheet 'Unknown_Categories'\n",
        "def log_unknown_category(message, parsed_category, amount):\n",
        "    try:\n",
        "        unknown_sheet = client.open_by_key(SHEET_ID).worksheet(\"Unknown_Categories\")\n",
        "    except:\n",
        "        print(\"❌ ไม่พบ Sheet ชื่อ 'Unknown_Categories'\")\n",
        "        return\n",
        "\n",
        "    now = datetime.datetime.now().isoformat()\n",
        "    unknown_sheet.append_row([now, message, parsed_category or \"\", amount or \"\"])\n",
        "    print(f\"📥 Logged unknown: '{message}'\")"
      ],
      "metadata": {
        "id": "mnEHIlNelHfb"
      },
      "execution_count": 74,
      "outputs": []
    },
    {
      "cell_type": "code",
      "source": [
        "log_message(\"U001\", \"ลำโพงบลูทูธ 899\")  # ไม่มีใน keyword\n",
        "log_message(\"U002\", \"แชมพู 99\")           # อยู่ในของใช้\n",
        "sync_sheet_to_notion_dynamic()"
      ],
      "metadata": {
        "colab": {
          "base_uri": "https://localhost:8080/"
        },
        "id": "bQ1mGptSluiS",
        "outputId": "fc60e879-3bce-412e-dd07-3558e57a4b7a"
      },
      "execution_count": 77,
      "outputs": [
        {
          "output_type": "stream",
          "name": "stdout",
          "text": [
            "✅ Logged: [2025-06-19T09:48:26.456626] U001 → ลำโพงบลูทูธ 899\n",
            "✅ Logged: [2025-06-19T09:48:26.999672] U002 → แชมพู 99\n",
            "⚠️ ไม่สามารถส่ง 'ข้าวผัดหมู 55' ไปยัง Notion ได้ (หมวดไม่รู้จัก)\n",
            "📥 Logged unknown: 'ข้าวผัดหมู 55'\n",
            "⚠️ ไม่สามารถส่ง 'น้ำมัน 200' ไปยัง Notion ได้ (หมวดไม่รู้จัก)\n",
            "📥 Logged unknown: 'น้ำมัน 200'\n",
            "⚠️ ไม่สามารถส่ง 'แชมพู 129' ไปยัง Notion ได้ (หมวดไม่รู้จัก)\n",
            "📥 Logged unknown: 'แชมพู 129'\n",
            "⚠️ ไม่สามารถส่ง 'ลำโพงบลูทูธ 650' ไปยัง Notion ได้ (หมวดไม่รู้จัก)\n",
            "📥 Logged unknown: 'ลำโพงบลูทูธ 650'\n",
            "⚠️ ไม่สามารถส่ง 'ลำโพงบลูทูธ 899' ไปยัง Notion ได้ (หมวดไม่รู้จัก)\n",
            "📥 Logged unknown: 'ลำโพงบลูทูธ 899'\n",
            "⚠️ ไม่สามารถส่ง 'แชมพู 99' ไปยัง Notion ได้ (หมวดไม่รู้จัก)\n",
            "📥 Logged unknown: 'แชมพู 99'\n"
          ]
        }
      ]
    },
    {
      "cell_type": "code",
      "source": [
        "log_message(\"U003\", \"บะหมี่หมูแดง 120\")  # ไม่มีใน keyword"
      ],
      "metadata": {
        "id": "WFjx16Ppp7Y3",
        "outputId": "c3958309-2eb6-498d-b4d3-86c214fb4858",
        "colab": {
          "base_uri": "https://localhost:8080/"
        }
      },
      "execution_count": 78,
      "outputs": [
        {
          "output_type": "stream",
          "name": "stdout",
          "text": [
            "✅ Logged: [2025-06-19T10:06:47.826558] U003 → บะหมี่หมูแดง 120\n"
          ]
        }
      ]
    },
    {
      "cell_type": "code",
      "source": [
        "def log_and_sync_message(user_id, message):\n",
        "    now = datetime.datetime.now().isoformat()\n",
        "    sheet.append_row([now, user_id, message, \"NO\"])  # log ลง Google Sheet\n",
        "\n",
        "    # แปลงข้อความ เช่น \"บะหมี่หมูแดง 120\"\n",
        "    parsed_text, amount = parse_message(message)\n",
        "    if not parsed_text or amount is None:\n",
        "        return f\"❌ ข้อความไม่ถูกต้อง: '{message}'\"\n",
        "\n",
        "    # เดาหมวดจาก keyword\n",
        "    guessed_category = find_category(parsed_text)\n",
        "\n",
        "    if not guessed_category:\n",
        "        log_unknown_category(message, parsed_text, amount)\n",
        "        return f\"⚠️ ไม่สามารถบันทึก '{message}' ได้ (ไม่รู้จักหมวด)\"\n",
        "\n",
        "    db_id = category_to_db_id.get(guessed_category)\n",
        "    if not db_id:\n",
        "        return f\"❌ ไม่พบ Database สำหรับหมวด '{guessed_category}'\"\n",
        "\n",
        "    # ส่งเข้า Notion\n",
        "    try:\n",
        "        notion.pages.create(\n",
        "            parent={\"database_id\": db_id},\n",
        "            properties={\n",
        "                \"Name\": {\"title\": [{\"text\": {\"content\": message}}]},\n",
        "                \"Amount\": {\"number\": amount}\n",
        "            }\n",
        "        )\n",
        "\n",
        "        # ✅ อัปเดตว่า sync แล้วใน Google Sheet\n",
        "        data = sheet.get_all_records()\n",
        "        for i, row in enumerate(data):\n",
        "            if row[\"Message\"] == message and row[\"UserID\"] == user_id:\n",
        "                sheet.update_cell(i + 2, 4, \"YES\")  # คอลัมน์ D = \"Synced?\"\n",
        "                break\n",
        "\n",
        "        return f\"✅ บันทึกเรียบร้อย: '{message}' → หมวด '{guessed_category}'\"\n",
        "\n",
        "    except Exception as e:\n",
        "        return f\"🚨 เกิดข้อผิดพลาดขณะส่งเข้า Notion: {e}\"\n"
      ],
      "metadata": {
        "id": "ZeN7Qyk8r9G7"
      },
      "execution_count": 82,
      "outputs": []
    },
    {
      "cell_type": "code",
      "source": [
        "response = log_and_sync_message(\"U003\", \"บะหมี่หมูแดง 120\")\n",
        "print(response)"
      ],
      "metadata": {
        "id": "GLB1SZEtsA5Y",
        "outputId": "838184b3-7197-4c95-9ae4-6eb6414bd80c",
        "colab": {
          "base_uri": "https://localhost:8080/"
        }
      },
      "execution_count": 83,
      "outputs": [
        {
          "output_type": "stream",
          "name": "stdout",
          "text": [
            "📥 Logged unknown: 'บะหมี่หมูแดง 120'\n",
            "⚠️ ไม่สามารถบันทึก 'บะหมี่หมูแดง 120' ได้ (ไม่รู้จักหมวด)\n"
          ]
        }
      ]
    },
    {
      "cell_type": "code",
      "source": [
        "response = log_and_sync_message(\"U003\", \"ลำโพง 890\")\n",
        "print(response)"
      ],
      "metadata": {
        "id": "R0chii4WsFtA",
        "outputId": "229912be-e18f-4da5-c554-a158ef1b7e52",
        "colab": {
          "base_uri": "https://localhost:8080/"
        }
      },
      "execution_count": 84,
      "outputs": [
        {
          "output_type": "stream",
          "name": "stdout",
          "text": [
            "📥 Logged unknown: 'ลำโพง 890'\n",
            "⚠️ ไม่สามารถบันทึก 'ลำโพง 890' ได้ (ไม่รู้จักหมวด)\n"
          ]
        }
      ]
    }
  ],
  "metadata": {
    "colab": {
      "name": "ยินดีต้อนรับสู่ Colab",
      "toc_visible": true,
      "provenance": [],
      "include_colab_link": true
    },
    "kernelspec": {
      "display_name": "Python 3",
      "name": "python3"
    }
  },
  "nbformat": 4,
  "nbformat_minor": 0
}