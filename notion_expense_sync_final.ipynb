{
  "cells": [
    {
      "cell_type": "markdown",
      "metadata": {
        "id": "view-in-github",
        "colab_type": "text"
      },
      "source": [
        "<a href=\"https://colab.research.google.com/github/tanatet8/Colab_Script/blob/main/notion_expense_sync_final.ipynb\" target=\"_parent\"><img src=\"https://colab.research.google.com/assets/colab-badge.svg\" alt=\"Open In Colab\"/></a>"
      ]
    },
    {
      "cell_type": "code",
      "source": [
        "# 🔢 Block 1: ติดตั้งไลบรารี (รันครั้งเดียว)\n",
        "!pip install gspread oauth2client notion-client python-dotenv"
      ],
      "metadata": {
        "id": "fhbcV8YQEX5x"
      },
      "execution_count": null,
      "outputs": []
    },
    {
      "cell_type": "code",
      "source": [
        "# 🔢 Block 2: Mount Google Drive และโหลด .env\n",
        "from google.colab import drive\n",
        "drive.mount('/content/drive')\n",
        "\n",
        "from dotenv import load_dotenv\n",
        "import os\n",
        "\n",
        "# 🔐 path ไปยัง .env\n",
        "env_path = '/content/drive/MyDrive/Automation_Keys/Notion_Expense/.env'\n",
        "load_dotenv(dotenv_path=env_path)"
      ],
      "metadata": {
        "id": "9wE-QD9vEaUd"
      },
      "execution_count": null,
      "outputs": []
    },
    {
      "cell_type": "code",
      "source": [
        "# 🔢 Block 3: Import ไลบรารี + โหลด config จาก .env\n",
        "import datetime\n",
        "import gspread\n",
        "from oauth2client.service_account import ServiceAccountCredentials\n",
        "from notion_client import Client\n",
        "\n",
        "# ✅ โหลดตัวแปรจาก .env\n",
        "NOTION_TOKEN = os.getenv(\"NOTION_TOKEN\")\n",
        "NOTION_DB_ID = os.getenv(\"NOTION_DB_ID\")\n",
        "SHEET_ID = os.getenv(\"SHEET_ID\")\n",
        "\n",
        "# ✅ คำค้นแบบ dynamic สำหรับหมวดหมู่\n",
        "dynamic_keywords = {\n",
        "    \"อาหาร\": [\"ข้าว\", \"แกง\", \"ก๋วยเตี๋ยว\", \"กาแฟ\", \"ชา\", \"ไข่\", \"นม\", \"ขนม\", \"โจ๊ก\"],\n",
        "    \"ของใช้\": [\"สบู่\", \"แชมพู\", \"ผ้า\", \"ทิชชู่\", \"ยาสีฟัน\", \"ครีม\"],\n",
        "    \"รถ\": [\"น้ำมัน\", \"รถเมล์\", \"จอดรถ\", \"เติมลม\", \"ค่าทางด่วน\"],\n",
        "    \"สุขภาพ\": [\"ยา\", \"คลินิก\", \"หมอ\", \"ฟิตเนส\"],\n",
        "    \"บริจาค\": [\"ทำบุญ\", \"บริจาค\", \"ถวาย\", \"ตักบาตร\"],\n",
        "    \"เงินสด\": [\"ถอน\", \"เบิก\", \"รับเงิน\", \"โอน\"],\n",
        "}\n",
        "\n",
        "# ✅ Map หมวด → Database ID ที่จะใช้ใน Notion\n",
        "category_to_db_id = {\n",
        "    \"อาหาร\": os.getenv(\"NOTION_DB_ID_FOOD\"),\n",
        "    \"ของใช้\": os.getenv(\"NOTION_DB_ID_SHOPPING\"),\n",
        "    \"รถ\": os.getenv(\"NOTION_DB_ID_TRANSPORT\"),\n",
        "    \"สุขภาพ\": os.getenv(\"NOTION_DB_ID_HEALTH\"),\n",
        "    \"บริจาค\": os.getenv(\"NOTION_DB_ID_DONATION\"),\n",
        "    \"เงินสด\": os.getenv(\"NOTION_DB_ID_CASH\"),\n",
        "}"
      ],
      "metadata": {
        "id": "BpvMsJo6Ecme"
      },
      "execution_count": null,
      "outputs": []
    },
    {
      "cell_type": "code",
      "source": [
        "# 🔢 Block 4: เชื่อม Google Sheets ด้วย gspread\n",
        "scope = [\"https://spreadsheets.google.com/feeds\", \"https://www.googleapis.com/auth/drive\"]\n",
        "\n",
        "# 🔐 path ไปยังไฟล์ json ที่อยู่ในโฟลเดอร์เดียวกับ .env\n",
        "service_account_path = os.path.join(os.path.dirname(env_path), \"service_account.json\")\n",
        "\n",
        "# 🔑 เชื่อมต่อ\n",
        "creds = ServiceAccountCredentials.from_json_keyfile_name(service_account_path, scope)\n",
        "client = gspread.authorize(creds)\n",
        "\n",
        "# 📄 เปิด sheet หลัก (sheet1)\n",
        "sheet = client.open_by_key(SHEET_ID).sheet1\n",
        "print(\"📄 Connected to Sheet:\", sheet.title)"
      ],
      "metadata": {
        "id": "-YkNxbl8Et9c"
      },
      "execution_count": null,
      "outputs": []
    },
    {
      "cell_type": "code",
      "source": [
        "# 🔢 Block 5: ฟังก์ชันพื้นฐาน\n",
        "\n",
        "# 🧾 แยกข้อความออกเป็น หมวด + จำนวนเงิน\n",
        "def parse_message(text):\n",
        "    try:\n",
        "        parts = text.strip().split()\n",
        "        if len(parts) == 2:\n",
        "            return parts[0], float(parts[1])\n",
        "        elif len(parts) == 1:\n",
        "            return parts[0], 0.0\n",
        "        else:\n",
        "            return None, None\n",
        "    except:\n",
        "        return None, None\n",
        "\n",
        "# 🧠 เดาหมวดจาก dynamic_keywords\n",
        "def find_category(text):\n",
        "    for category, keywords in dynamic_keywords.items():\n",
        "        if any(word in text for word in keywords):\n",
        "            return category\n",
        "    return None\n",
        "\n",
        "# 📝 log ข้อความลง Google Sheet\n",
        "def log_message(user_id, message):\n",
        "    now = datetime.datetime.now().isoformat()\n",
        "    sheet.append_row([now, user_id, message, \"NO\"])\n",
        "\n",
        "# 🔁 log ข้อความไม่รู้จักลง sheet \"Unknown_Categories\"\n",
        "def log_unknown_category(message, parsed_category, amount):\n",
        "    try:\n",
        "        unknown_sheet = client.open_by_key(SHEET_ID).worksheet(\"Unknown_Categories\")\n",
        "    except:\n",
        "        print(\"❌ ไม่พบ Sheet 'Unknown_Categories'\")\n",
        "        return\n",
        "\n",
        "    now = datetime.datetime.now().isoformat()\n",
        "    unknown_sheet.append_row([now, message, parsed_category or \"\", amount or \"\"])\n",
        "    print(f\"📥 Logged unknown: '{message}'\")\n",
        "\n",
        "# 💬 log การสนทนา user/bot\n",
        "def log_conversation(user_id, role, text):\n",
        "    try:\n",
        "        conv_sheet = client.open_by_key(SHEET_ID).worksheet(\"ConversationLog\")\n",
        "    except:\n",
        "        print(\"❌ ไม่พบ Sheet 'ConversationLog'\")\n",
        "        return\n",
        "\n",
        "    now = datetime.datetime.now().isoformat()\n",
        "    conv_sheet.append_row([now, user_id, role, text])\n",
        "    print(f\"💬 {role.upper()} | {text}\")"
      ],
      "metadata": {
        "id": "tq3tUdoHEv9x"
      },
      "execution_count": null,
      "outputs": []
    },
    {
      "cell_type": "code",
      "source": [
        "# 🔢 Block 6: เชื่อมต่อ Notion\n",
        "notion = Client(auth=NOTION_TOKEN)\n",
        "\n",
        "# 🧾 Push ธรรมดา (มีชื่อหมวดแน่ชัด)\n",
        "def push_to_notion(category, amount):\n",
        "    notion.pages.create(\n",
        "        parent={\"database_id\": NOTION_DB_ID},\n",
        "        properties={\n",
        "            \"Categories\": {\"select\": {\"name\": category}},\n",
        "            \"Amount\": {\"number\": amount}\n",
        "        }\n",
        "    )\n",
        "\n",
        "# 🧠 Push แบบเดาหมวดจากข้อความ\n",
        "def push_to_notion_dynamic(message):\n",
        "    category, amount = parse_message(message)\n",
        "    if not category or amount is None:\n",
        "        print(f\"❌ รูปแบบข้อความไม่ถูกต้อง: '{message}'\")\n",
        "        return\n",
        "\n",
        "    guessed_category = find_category(category)\n",
        "    if not guessed_category:\n",
        "        print(f\"⚠️ ไม่พบหมวดที่เหมาะกับ: '{category}'\")\n",
        "        return\n",
        "\n",
        "    db_id = category_to_db_id.get(guessed_category)\n",
        "    if not db_id:\n",
        "        print(f\"❌ ไม่พบ Database ID สำหรับ '{guessed_category}'\")\n",
        "        return\n",
        "\n",
        "    notion.pages.create(\n",
        "        parent={\"database_id\": db_id},\n",
        "        properties={\n",
        "            \"Name\": {\"title\": [{\"text\": {\"content\": message}}]},\n",
        "            \"Amount\": {\"number\": amount}\n",
        "        }\n",
        "    )\n",
        "    print(f\"✅ ส่งข้อมูลสำเร็จ: '{message}' → หมวด '{guessed_category}'\")"
      ],
      "metadata": {
        "id": "iOE9CyVbEylC"
      },
      "execution_count": null,
      "outputs": []
    }
  ],
  "metadata": {
    "colab": {
      "name": "ยินดีต้อนรับสู่ Colab",
      "toc_visible": true,
      "provenance": [],
      "include_colab_link": true
    },
    "kernelspec": {
      "display_name": "Python 3",
      "name": "python3"
    }
  },
  "nbformat": 4,
  "nbformat_minor": 0
}