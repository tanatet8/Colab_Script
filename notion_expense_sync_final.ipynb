{
  "cells": [
    {
      "cell_type": "markdown",
      "metadata": {
        "id": "view-in-github",
        "colab_type": "text"
      },
      "source": [
        "<a href=\"https://colab.research.google.com/github/tanatet8/Colab_Script/blob/main/notion_expense_sync_final.ipynb\" target=\"_parent\"><img src=\"https://colab.research.google.com/assets/colab-badge.svg\" alt=\"Open In Colab\"/></a>"
      ]
    },
    {
      "cell_type": "code",
      "source": [
        "# ติดตั้งไลบรารีสำหรับ Google Sheet, Notion และ env\n",
        "!pip install gspread oauth2client notion-client python-dotenv"
      ],
      "metadata": {
        "id": "xHXqsb6gp1P3"
      },
      "execution_count": null,
      "outputs": []
    },
    {
      "cell_type": "code",
      "source": [
        "from google.colab import drive\n",
        "drive.mount('/content/drive')\n",
        "\n",
        "from dotenv import load_dotenv\n",
        "import os\n",
        "\n",
        "# โหลดค่าจาก .env ที่อยู่ใน Drive\n",
        "env_path = '/content/drive/MyDrive/Automation_Keys/Notion_Expense/.env'\n",
        "load_dotenv(dotenv_path=env_path)\n",
        "\n",
        "# ดึงค่าตัวแปร\n",
        "NOTION_TOKEN = os.getenv(\"NOTION_TOKEN\")\n",
        "NOTION_DB_ID = os.getenv(\"NOTION_DB_ID\")\n",
        "SHEET_ID = os.getenv(\"SHEET_ID\")"
      ],
      "metadata": {
        "id": "FNC1M8pWp7ug"
      },
      "execution_count": null,
      "outputs": []
    },
    {
      "cell_type": "code",
      "source": [
        "# อัปโหลดไฟล์ service_account.json เข้าสู่ Colab memory\n",
        "from google.colab import files\n",
        "files.upload()  # เลือกไฟล์จาก Drive หรือ External HDD ก็ได้"
      ],
      "metadata": {
        "id": "_ZdTnKGUtGhf"
      },
      "execution_count": null,
      "outputs": []
    },
    {
      "cell_type": "code",
      "source": [
        "import gspread\n",
        "from oauth2client.service_account import ServiceAccountCredentials\n",
        "\n",
        "scope = [\"https://spreadsheets.google.com/feeds\",'https://www.googleapis.com/auth/drive']\n",
        "creds = ServiceAccountCredentials.from_json_keyfile_name(\"service_account.json\", scope)\n",
        "client = gspread.authorize(creds)\n",
        "\n",
        "# เปิด Sheet ด้วย SHEET_ID จาก .env (ไม่ต้อง hardcode แล้ว)\n",
        "sheet = client.open_by_key(SHEET_ID).sheet1"
      ],
      "metadata": {
        "id": "qM1QlWr4p_37"
      },
      "execution_count": null,
      "outputs": []
    },
    {
      "cell_type": "code",
      "source": [
        "def parse_message(text):\n",
        "    try:\n",
        "        parts = text.strip().split()\n",
        "        category = parts[0]\n",
        "        amount = float(parts[1])\n",
        "        return category, amount\n",
        "    except:\n",
        "        return None, None"
      ],
      "metadata": {
        "id": "G7w74sCkqFFl"
      },
      "execution_count": null,
      "outputs": []
    },
    {
      "cell_type": "code",
      "source": [
        "from notion_client import Client\n",
        "\n",
        "notion = Client(auth=NOTION_TOKEN)\n",
        "\n",
        "def push_to_notion(category, amount):\n",
        "    notion.pages.create(\n",
        "        parent={\"database_id\": NOTION_DB_ID},\n",
        "        properties={\n",
        "            \"Categories\": {\"select\": {\"name\": category}},\n",
        "            \"Amount\": {\"number\": amount}\n",
        "        }\n",
        "    )"
      ],
      "metadata": {
        "id": "vYPcnoZvqH6a"
      },
      "execution_count": null,
      "outputs": []
    },
    {
      "cell_type": "code",
      "source": [
        "def sync_sheet_to_notion():\n",
        "    data = sheet.get_all_records()\n",
        "    for idx, row in enumerate(data):\n",
        "        if row['Synced?'].strip().upper() != \"NO\":\n",
        "            continue\n",
        "\n",
        "        category, amount = parse_message(row['Message'])\n",
        "        if not category or not amount:\n",
        "            print(f\"❌ Format ผิดที่ row {idx+2}\")\n",
        "            continue\n",
        "\n",
        "        try:\n",
        "            push_to_notion(category, amount)\n",
        "            sheet.update_cell(idx+2, 4, \"YES\")\n",
        "            print(f\"✅ Synced row {idx+2}: {category} {amount}\")\n",
        "        except Exception as e:\n",
        "            print(f\"🚨 Error at row {idx+2}: {e}\")\n",
        "\n",
        "# เรียกฟังก์ชัน\n",
        "sync_sheet_to_notion()"
      ],
      "metadata": {
        "id": "9mYfN6X4qNLP"
      },
      "execution_count": null,
      "outputs": []
    }
  ],
  "metadata": {
    "colab": {
      "name": "ยินดีต้อนรับสู่ Colab",
      "toc_visible": true,
      "provenance": [],
      "include_colab_link": true
    },
    "kernelspec": {
      "display_name": "Python 3",
      "name": "python3"
    }
  },
  "nbformat": 4,
  "nbformat_minor": 0
}