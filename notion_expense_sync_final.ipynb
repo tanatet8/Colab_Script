{
  "cells": [
    {
      "cell_type": "markdown",
      "metadata": {
        "id": "view-in-github",
        "colab_type": "text"
      },
      "source": [
        "<a href=\"https://colab.research.google.com/github/tanatet8/Colab_Script/blob/main/notion_expense_sync_final.ipynb\" target=\"_parent\"><img src=\"https://colab.research.google.com/assets/colab-badge.svg\" alt=\"Open In Colab\"/></a>"
      ]
    },
    {
      "cell_type": "code",
      "source": [
        "# ✅ 1. ติดตั้งไลบรารีที่ต้องใช้\n",
        "!pip install gspread oauth2client notion-client python-dotenv"
      ],
      "metadata": {
        "id": "P4xje4lCDXJ5"
      },
      "execution_count": null,
      "outputs": []
    },
    {
      "cell_type": "code",
      "source": [
        "# ✅ 2. Mount Google Drive และโหลด .env\n",
        "from google.colab import drive\n",
        "drive.mount('/content/drive')\n",
        "\n",
        "from dotenv import load_dotenv\n",
        "import os\n",
        "\n",
        "env_path = '/content/drive/MyDrive/Automation_Keys/Notion_Expense/.env'\n",
        "load_dotenv(dotenv_path=env_path)\n",
        "\n",
        "# ✅ โหลดค่าจาก .env\n",
        "NOTION_TOKEN = os.getenv(\"NOTION_TOKEN\")\n",
        "NOTION_DB_ID = os.getenv(\"NOTION_DB_ID\")\n",
        "SHEET_ID = os.getenv(\"SHEET_ID\")"
      ],
      "metadata": {
        "id": "SGQH9TI6DcWx"
      },
      "execution_count": null,
      "outputs": []
    },
    {
      "cell_type": "code",
      "source": [
        "# ✅ 3. เชื่อม Google Sheets ด้วย service_account.json ที่อยู่ใน Google Drive\n",
        "import gspread\n",
        "from oauth2client.service_account import ServiceAccountCredentials\n",
        "\n",
        "scope = [\"https://spreadsheets.google.com/feeds\", \"https://www.googleapis.com/auth/drive\"]\n",
        "\n",
        "# ✅ เปลี่ยนชื่อไฟล์ใน Drive เป็น service_account.json แล้ว\n",
        "service_account_path = \"/content/drive/MyDrive/Automation_Keys/Notion_Expense/service_account.json\"\n",
        "\n",
        "creds = ServiceAccountCredentials.from_json_keyfile_name(service_account_path, scope)\n",
        "client = gspread.authorize(creds)\n",
        "\n",
        "# ✅ เปิด Sheet แรกของไฟล์ด้วย SHEET_ID จาก .env\n",
        "sheet = client.open_by_key(SHEET_ID).sheet1"
      ],
      "metadata": {
        "id": "Dn0JCgPeDgcK"
      },
      "execution_count": null,
      "outputs": []
    },
    {
      "cell_type": "code",
      "source": [
        "# ✅ 4. ฟังก์ชันแปลงข้อความ [หมวดหมู่] [จำนวนเงิน]\n",
        "def parse_message(text):\n",
        "    try:\n",
        "        parts = text.strip().split()\n",
        "        if len(parts) == 2:\n",
        "            category = parts[0]\n",
        "            amount = float(parts[1])\n",
        "            return category, amount\n",
        "        elif len(parts) == 1:\n",
        "            return parts[0], 0.0  # เผื่อพิมพ์หมวดหมู่อย่างเดียว\n",
        "        else:\n",
        "            return None, None\n",
        "    except:\n",
        "        return None, None"
      ],
      "metadata": {
        "id": "G3RPYZIkDnO6"
      },
      "execution_count": null,
      "outputs": []
    },
    {
      "cell_type": "code",
      "source": [
        "# ✅ 5. เชื่อมต่อ Notion API\n",
        "from notion_client import Client\n",
        "\n",
        "notion = Client(auth=NOTION_TOKEN)\n",
        "\n",
        "def push_to_notion(category, amount):\n",
        "    notion.pages.create(\n",
        "        parent={\"database_id\": NOTION_DB_ID},\n",
        "        properties={\n",
        "            \"Categories\": {\"select\": {\"name\": category}},\n",
        "            \"Amount\": {\"number\": amount}\n",
        "        }\n",
        "    )"
      ],
      "metadata": {
        "id": "tbU4Ewk7DogY"
      },
      "execution_count": null,
      "outputs": []
    },
    {
      "cell_type": "code",
      "source": [
        "# ✅ 6. ฟังก์ชัน Sync Google Sheet → Notion\n",
        "def sync_sheet_to_notion():\n",
        "    data = sheet.get_all_records()\n",
        "    for idx, row in enumerate(data):\n",
        "        if row['Synced?'].strip().upper() != \"NO\":\n",
        "            continue\n",
        "\n",
        "        category, amount = parse_message(row['Message'])\n",
        "        if not category or amount is None:\n",
        "            print(f\"❌ Format ผิดที่ row {idx+2}: {row['Message']}\")\n",
        "            continue\n",
        "\n",
        "        try:\n",
        "            push_to_notion(category, amount)\n",
        "            sheet.update_cell(idx+2, 4, \"YES\")\n",
        "            print(f\"✅ Synced row {idx+2}: {category} {amount}\")\n",
        "        except Exception as e:\n",
        "            print(f\"🚨 Error at row {idx+2}: {e}\")"
      ],
      "metadata": {
        "id": "_cDN-nZ5Dr4F"
      },
      "execution_count": null,
      "outputs": []
    },
    {
      "cell_type": "code",
      "source": [
        "# ✅ 7. บันทึกข้อความจาก Line ลง Google Sheet\n",
        "import datetime\n",
        "\n",
        "def log_message(user_id, message):\n",
        "    now = datetime.datetime.now().isoformat()\n",
        "    sheet.append_row([now, user_id, message, \"NO\"])  # เพิ่มแถวใหม่ลง Google Sheet"
      ],
      "metadata": {
        "id": "pvsmCqQaDv6S"
      },
      "execution_count": null,
      "outputs": []
    }
  ],
  "metadata": {
    "colab": {
      "name": "ยินดีต้อนรับสู่ Colab",
      "toc_visible": true,
      "provenance": [],
      "include_colab_link": true
    },
    "kernelspec": {
      "display_name": "Python 3",
      "name": "python3"
    }
  },
  "nbformat": 4,
  "nbformat_minor": 0
}