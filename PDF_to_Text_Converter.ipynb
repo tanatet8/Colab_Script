{
  "cells": [
    {
      "cell_type": "markdown",
      "metadata": {
        "id": "view-in-github",
        "colab_type": "text"
      },
      "source": [
        "<a href=\"https://colab.research.google.com/github/tanatet8/Colab_Script/blob/main/PDF_to_Text_Converter.ipynb\" target=\"_parent\"><img src=\"https://colab.research.google.com/assets/colab-badge.svg\" alt=\"Open In Colab\"/></a>"
      ]
    },
    {
      "cell_type": "code",
      "source": [
        "# PDF to Text Converter\n",
        "\n",
        "# ติดตั้ง pdfplumber สำหรับดึงข้อความจาก PDF\n",
        "!pip install pdfplumber\n",
        "\n",
        "import pdfplumber\n",
        "from google.colab import files\n",
        "import os\n",
        "\n",
        "# แสดงข้อความพร้อมใช้งาน\n",
        "print(\"🔧 PDF to Text Converter - Ready!\")\n",
        "print(\"=\" * 50)\n",
        "\n",
        "# Upload PDF file ขึ้น Google Colab (จะมีป๊อปอัพให้เลือกไฟล์)\n",
        "print(\"📁 Please select your PDF file(s):\")\n",
        "uploaded = files.upload()\n",
        "\n",
        "# ตรวจสอบว่ามีไฟล์อัปโหลดหรือไม่\n",
        "if not uploaded:\n",
        "   print(\"❌ No files uploaded!\")\n",
        "else:\n",
        "   print(f\"✅ Found {len(uploaded)} file(s)\")\n",
        "   print(\"=\" * 50)\n",
        "\n",
        "   # เตรียม list สำหรับเก็บชื่อไฟล์ที่แปลงสำเร็จ\n",
        "   converted_files = []\n",
        "\n",
        "   # วนลูปอ่านไฟล์ PDF ที่อัปโหลดเข้ามา\n",
        "   for filename in uploaded.keys():\n",
        "       print(f\"🔄 Processing: {filename}\")\n",
        "\n",
        "       try:\n",
        "           # เปิดไฟล์ PDF ด้วย pdfplumber\n",
        "           with pdfplumber.open(filename) as pdf:\n",
        "               text = \"\"  # เตรียมตัวแปร text ไว้เก็บข้อความทั้งหมด\n",
        "               total_pages = len(pdf.pages)  # จำนวนหน้าใน PDF\n",
        "\n",
        "               print(f\"📄 Total pages: {total_pages}\")\n",
        "\n",
        "               # วนลูปอ่านทุกหน้าใน PDF\n",
        "               for i, page in enumerate(pdf.pages, 1):\n",
        "                   # ดึงข้อความจากแต่ละหน้า แล้วต่อท้าย text\n",
        "                   page_text = page.extract_text()\n",
        "                   if page_text:\n",
        "                       text += page_text + \"\\n\"\n",
        "\n",
        "                   # แสดงความคืบหน้า ทุก ๆ 5 หน้า หรือหน้าสุดท้าย\n",
        "                   if i % 5 == 0 or i == total_pages:\n",
        "                       print(f\"   📖 Processed page {i}/{total_pages}\")\n",
        "\n",
        "           # ตั้งชื่อไฟล์ .txt ที่จะเซฟ (รองรับ .pdf หรือ .PDF)\n",
        "           output_name = filename.replace('.pdf', '.txt').replace('.PDF', '.txt')\n",
        "\n",
        "           # เขียนข้อความลงไฟล์ .txt (ใช้ encoding utf-8 รองรับภาษาไทย/จีน/พิเศษ)\n",
        "           with open(output_name, 'w', encoding='utf-8') as f:\n",
        "               f.write(text)\n",
        "\n",
        "           # ตรวจสอบขนาดไฟล์และจำนวนตัวอักษร/คำ\n",
        "           file_size = os.path.getsize(output_name)\n",
        "           char_count = len(text)\n",
        "           word_count = len(text.split())\n",
        "\n",
        "           # แจ้งผลการแปลง\n",
        "           print(f\"✅ Converted: {filename} → {output_name}\")\n",
        "           print(f\"   📊 Characters: {char_count:,}\")\n",
        "           print(f\"   📊 Words: {word_count:,}\")\n",
        "           print(f\"   📊 File size: {file_size:,} bytes\")\n",
        "           print(\"-\" * 30)\n",
        "\n",
        "           # เก็บชื่อไฟล์ที่แปลงสำเร็จ\n",
        "           converted_files.append(output_name)\n",
        "\n",
        "       except Exception as e:\n",
        "           # แจ้ง error ถ้าแปลงไม่สำเร็จ\n",
        "           print(f\"❌ Error processing {filename}: {str(e)}\")\n",
        "           print(\"-\" * 30)\n",
        "\n",
        "   # ดาวน์โหลดไฟล์ทั้งหมดที่แปลงเสร็จแล้ว\n",
        "   if converted_files:\n",
        "       print(\"🎉 Conversion completed!\")\n",
        "       print(f\"📥 Downloading {len(converted_files)} file(s)...\")\n",
        "\n",
        "       for output_file in converted_files:\n",
        "           try:\n",
        "               # ดาวน์โหลดไฟล์\n",
        "               files.download(output_file)\n",
        "               print(f\"⬇️ Downloaded: {output_file}\")\n",
        "           except Exception as e:\n",
        "               print(f\"❌ Download failed for {output_file}: {str(e)}\")\n",
        "\n",
        "       print(\"=\" * 50)\n",
        "       print(\"🎊 All done! Check your downloads folder.\")\n",
        "   else:\n",
        "       print(\"😞 No files were converted successfully.\")\n"
      ],
      "metadata": {
        "id": "H4Qlk0MUVp0l"
      },
      "execution_count": null,
      "outputs": []
    },
    {
      "cell_type": "markdown",
      "source": [
        "# ส่วนใหม่"
      ],
      "metadata": {
        "id": "WUiTH_7EVpU0"
      }
    }
  ],
  "metadata": {
    "colab": {
      "name": "ยินดีต้อนรับสู่ Colab",
      "toc_visible": true,
      "provenance": [],
      "include_colab_link": true
    },
    "kernelspec": {
      "display_name": "Python 3",
      "name": "python3"
    }
  },
  "nbformat": 4,
  "nbformat_minor": 0
}