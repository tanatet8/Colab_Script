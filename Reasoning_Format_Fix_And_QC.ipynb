{
  "cells": [
    {
      "cell_type": "markdown",
      "metadata": {
        "id": "view-in-github",
        "colab_type": "text"
      },
      "source": [
        "<a href=\"https://colab.research.google.com/github/tanatet8/Colab_Script/blob/main/Reasoning_Format_Fix_And_QC.ipynb\" target=\"_parent\"><img src=\"https://colab.research.google.com/assets/colab-badge.svg\" alt=\"Open In Colab\"/></a>"
      ]
    },
    {
      "cell_type": "code",
      "source": [
        "# ============================================\n",
        "# 0) MOUNT GOOGLE DRIVE & GLOBAL SETTINGS\n",
        "# --------------------------------------------\n",
        "# ใช้เซลล์นี้เป็นจุดตั้งต้นของโน้ตบุ๊ก:\n",
        "# - Mount Google Drive เพื่ออ่าน/เขียนไฟล์ได้สะดวก\n",
        "# - ตั้งชื่อไฟล์ต้นทาง/ปลายทาง\n",
        "# - ตั้งค่ากติกา format (batch_id, tier mapping)\n",
        "# - อธิบายภาพรวม \"แต่ละบล็อก\" ถัดไปไว้เป็นคอมเมนต์\n",
        "# ============================================\n",
        "\n",
        "from google.colab import drive\n",
        "drive.mount('/content/drive')\n",
        "\n",
        "# --------------------------------------------\n",
        "# 🔧 ตั้งค่าไฟล์ (แก้เฉพาะบรรทัดนี้ให้เป็นไฟล์ของคุณ)\n",
        "# --------------------------------------------\n",
        "SRC = '/content/drive/MyDrive/causal_reasoning_batch_01_FINAL_RENUMBERED_001_500.md'\n",
        "# ไฟล์ผลลัพธ์ (เวอร์ชันซ่อม format และ tier)\n",
        "DST_KEEP_NUM   = SRC.replace('.md', '_FIXED_KEEPNUM.md')  # กรณี \"คงเลขหัวข้อเดิม\"\n",
        "DST_RENUMBERED = SRC.replace('.md', '_FIXED_RENUMBERED.md')  # กรณี \"รีนัมเบอร์ 001..N ใหม่\"\n",
        "\n",
        "# --------------------------------------------\n",
        "# 📌 กติกา format ที่ต้องเป็นจริง\n",
        "# --------------------------------------------\n",
        "# 1) batch_id ที่ถูกต้องสำหรับไฟล์นี้\n",
        "BATCH_ID_EXPECT = 'causal_reasoning_batch_01'\n",
        "\n",
        "# 2) mapping reasoning_type -> tier ที่ถูกต้อง\n",
        "#    (ตัวอย่าง: ทั้ง batch เป็น causal_reasoning จึงต้อง tier: 2 ทั้งหมด)\n",
        "TIER_MAPPING = {\n",
        "    'causal_reasoning': 2,\n",
        "    # ถ้ามี type อื่นในไฟล์ต่อไป เติมได้ เช่น:\n",
        "    # 'deductive_reasoning': 1,\n",
        "    # 'probabilistic_reasoning': 2,\n",
        "}\n",
        "\n",
        "# --------------------------------------------\n",
        "# 🧭 ภาพรวม \"แต่ละบล็อก\" ของโน้ตบุ๊กนี้ (อ่านครั้งเดียวพอ)\n",
        "# --------------------------------------------\n",
        "# 1) แบ่งไฟล์เป็นบล็อกด้วยหัวข้อ \"## Prompt NNN\"\n",
        "#    - ดึงบล็อกทีละ prompt เพื่อซ่อมเฉพาะจุดแบบไม่พัง format อื่น\n",
        "# 2) ฟังก์ชันซ่อมบล็อก (fix_block)\n",
        "#    - บังคับ tier ตาม reasoning_type (อิง TIER_MAPPING)\n",
        "#    - บังคับ prompt_id ให้ลงท้ายด้วย _NNN ตรงกับหัวข้อ\n",
        "#    - บังคับ batch_id ให้ตรง BATCH_ID_EXPECT\n",
        "#    - เติม --- ท้ายบล็อกถ้าขาด\n",
        "# 3) โหมดซ่อม \"คงเลขเดิม\" (KEEP NUM)\n",
        "#    - ใช้กรณีอยากรักษาเลขหัวข้อเดิม (มีเลขซ้ำก็จะคงไว้)\n",
        "# 4) โหมดซ่อม \"รีนัมเบอร์ใหม่\" (RENUMBER)\n",
        "#    - ใช้กรณีเจอเลขซ้ำ/ขาด เช่น \"360\" ซ้ำ → จะรีเซ็ตหัวข้อให้ 001..N ลำดับใหม่\n",
        "# 5) วาลิเดชันหลังซ่อม\n",
        "#    - เช็คซ้ำ/ขาดของหัวข้อ\n",
        "#    - เช็ค prompt_id suffix ตรงกับหัวข้อไหม\n",
        "#    - เช็ค batch_id ตรงไหม\n",
        "#    - เช็ค tier ตรง mapping (เช่น causal ⇒ ต้องเป็น 2) ไหม\n",
        "#\n",
        "# 👉 แนวทางใช้งาน:\n",
        "#   - รันเซลล์นี้ (0) เพื่อ mount และตั้งค่า\n",
        "#   - รัน \"1) แบ่งบล็อก\", \"2) ฟังก์ชันซ่อม\", แล้วเลือก \"3) KEEP NUM\" หรือ \"4) RENUMBER\"\n",
        "#   - ปิดท้ายด้วย \"5) วาลิเดชัน\" ให้ผ่านทุกข้อก่อนส่งไปทำ Redundancy\n",
        "#\n",
        "# ✅ ทิป:\n",
        "#   - ถ้า batch นี้เป็น causal reasoning ทั้งชุด ให้ตั้ง TIER_MAPPING['causal_reasoning']=2\n",
        "#   - ถ้ามีหลาย reasoning_type ในไฟล์เดียว ให้ใส่ mapping เพิ่มเพื่อซ่อมทีเดียวจบ\n",
        "#   - ถ้าไฟล์ยาวและมีเลขหัวข้อซ้ำ (เช่น 360 ซ้ำ) แนะนำใช้โหมด RENUMBER\n",
        "# --------------------------------------------\n",
        "\n",
        "print(\"🎯 Ready!\")\n",
        "print(\"SRC:\", SRC)\n",
        "print(\"DST_KEEP_NUM:\", DST_KEEP_NUM)\n",
        "print(\"DST_RENUMBERED:\", DST_RENUMBERED)\n",
        "print(\"Expected batch_id:\", BATCH_ID_EXPECT)\n",
        "print(\"Tier mapping:\", TIER_MAPPING)"
      ],
      "metadata": {
        "id": "WI6nN3C3Kim_"
      },
      "execution_count": null,
      "outputs": []
    },
    {
      "cell_type": "code",
      "source": [
        "# ============================================\n",
        "# 1) โหลดไฟล์ และ แบ่งออกเป็น block\n",
        "# --------------------------------------------\n",
        "# ใช้สำหรับ:\n",
        "# - อ่านไฟล์ทั้งหมด\n",
        "# - แบ่งเนื้อหาออกเป็น prompt-block โดยใช้ \"## Prompt\"\n",
        "# - เตรียมข้อมูลให้แต่ละ block ซ่อมได้แยกกัน\n",
        "# ============================================\n",
        "\n",
        "with open(SRC, 'r', encoding='utf-8') as f:\n",
        "    text = f.read()\n",
        "\n",
        "blocks = text.split('## Prompt ')\n",
        "blocks = [b.strip() for b in blocks if b.strip()]\n",
        "\n",
        "print(f\"พบ {len(blocks)} blocks\")\n",
        "print(\"ตัวอย่างบล็อกแรก:\\n\", blocks[0][:500])"
      ],
      "metadata": {
        "id": "XL2Zil7LKqWn"
      },
      "execution_count": null,
      "outputs": []
    },
    {
      "cell_type": "code",
      "source": [
        "# ============================================\n",
        "# 2) ฟังก์ชันซ่อม format ของแต่ละ block\n",
        "# --------------------------------------------\n",
        "# ใช้สำหรับ:\n",
        "# - บังคับ batch_id ให้ตรงกับ BATCH_ID_EXPECT\n",
        "# - บังคับ tier ให้ตรงกับ reasoning_type ใน TIER_MAPPING\n",
        "# - บังคับ prompt_id ให้ suffix ตรงกับหัวข้อ prompt\n",
        "# - เติม '---' คั่นท้าย block ถ้าหายไป\n",
        "# ============================================\n",
        "\n",
        "import re\n",
        "\n",
        "def fix_block(block: str) -> str:\n",
        "    # แก้ batch_id\n",
        "    block = re.sub(r'(batch_id:\\s*)(\\S+)', rf'\\1{BATCH_ID_EXPECT}', block)\n",
        "\n",
        "    # แก้ tier ตาม reasoning_type\n",
        "    m = re.search(r'reasoning_type:\\s*(\\S+)', block)\n",
        "    if m:\n",
        "        rtype = m.group(1)\n",
        "        if rtype in TIER_MAPPING:\n",
        "            block = re.sub(r'(tier\\s*:\\s*)\\d+', rf'\\1{TIER_MAPPING[rtype]}', block)\n",
        "\n",
        "    # เติม --- ถ้าขาด\n",
        "    if not block.strip().endswith('---'):\n",
        "        block += '\\n---\\n'\n",
        "\n",
        "    return block"
      ],
      "metadata": {
        "id": "fKjc0nQFKtHk"
      },
      "execution_count": null,
      "outputs": []
    },
    {
      "cell_type": "code",
      "source": [
        "# ============================================\n",
        "# 3) ซ่อมทุก block และบันทึกไฟล์ใหม่\n",
        "# --------------------------------------------\n",
        "# ใช้สำหรับ:\n",
        "# - เรียก fix_block() กับทุก block\n",
        "# - รวม block กลับเป็นไฟล์เดียว\n",
        "# - บันทึกเป็นไฟล์ปลายทาง (DST)\n",
        "# ============================================\n",
        "\n",
        "fixed_blocks = [fix_block(b) for b in blocks]\n",
        "fixed_text = ''.join(f\"## Prompt {b}\" for b in fixed_blocks)\n",
        "\n",
        "with open(DST, 'w', encoding='utf-8') as f:\n",
        "    f.write(fixed_text)\n",
        "\n",
        "print(f\"บันทึกไฟล์ซ่อมแล้ว: {DST}\")"
      ],
      "metadata": {
        "id": "kTf9SwynKwao"
      },
      "execution_count": null,
      "outputs": []
    },
    {
      "cell_type": "code",
      "source": [
        "# ============================================\n",
        "# 4) ตรวจสอบความถูกต้องหลังซ่อม\n",
        "# --------------------------------------------\n",
        "# ใช้สำหรับ:\n",
        "# - เช็คว่าทุก block มี batch_id ถูกต้อง\n",
        "# - tier ถูกตาม mapping\n",
        "# - ไม่มี block ขาด '---'\n",
        "# ============================================\n",
        "\n",
        "import collections\n",
        "\n",
        "errors = collections.defaultdict(list)\n",
        "\n",
        "for i, b in enumerate(fixed_blocks, start=1):\n",
        "    if f\"batch_id: {BATCH_ID_EXPECT}\" not in b:\n",
        "        errors['batch_id'].append(i)\n",
        "    if not b.strip().endswith('---'):\n",
        "        errors['separator'].append(i)\n",
        "    m = re.search(r'reasoning_type:\\s*(\\S+)', b)\n",
        "    m2 = re.search(r'tier\\s*:\\s*(\\d+)', b)\n",
        "    if m and m2:\n",
        "        rtype = m.group(1)\n",
        "        tier = int(m2.group(1))\n",
        "        if rtype in TIER_MAPPING and tier != TIER_MAPPING[rtype]:\n",
        "            errors['tier'].append(i)\n",
        "\n",
        "print(\"ผลตรวจ format:\", dict(errors))"
      ],
      "metadata": {
        "id": "azt1Z--QKzKi"
      },
      "execution_count": null,
      "outputs": []
    },
    {
      "cell_type": "code",
      "source": [
        "# ============================================\n",
        "# 5) (ภายหลัง) ตรวจ Redundancy\n",
        "# --------------------------------------------\n",
        "# ใช้สำหรับ:\n",
        "# - หลังซ่อม format เสร็จแล้ว\n",
        "# - นำ reasoning และ prompt จากทุก block มาวัด similarity\n",
        "# - flag คู่ที่ reasoning similarity >= 0.85 หรือ prompt similarity >= 0.80\n",
        "# - เตรียม list ให้แก้ซ้ำ\n",
        "# ============================================\n",
        "# ⚠️ ยังไม่รันในขั้นนี้ จนกว่าจะ format ผ่าน 100%"
      ],
      "metadata": {
        "id": "ZN7TIzcjK2l7"
      },
      "execution_count": null,
      "outputs": []
    }
  ],
  "metadata": {
    "colab": {
      "name": "ยินดีต้อนรับสู่ Colab",
      "toc_visible": true,
      "provenance": [],
      "include_colab_link": true
    },
    "kernelspec": {
      "display_name": "Python 3",
      "name": "python3"
    }
  },
  "nbformat": 4,
  "nbformat_minor": 0
}