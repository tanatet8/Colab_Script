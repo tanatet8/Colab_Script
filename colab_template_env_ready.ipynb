{
  "cells": [
    {
      "cell_type": "markdown",
      "metadata": {
        "id": "view-in-github",
        "colab_type": "text"
      },
      "source": [
        "<a href=\"https://colab.research.google.com/github/tanatet8/Colab_Script/blob/main/colab_template_env_ready.ipynb\" target=\"_parent\"><img src=\"https://colab.research.google.com/assets/colab-badge.svg\" alt=\"Open In Colab\"/></a>"
      ]
    },
    {
      "cell_type": "markdown",
      "source": [
        "# ส่วนใหม่"
      ],
      "metadata": {
        "id": "YU-0H1NPpto0"
      }
    },
    {
      "cell_type": "code",
      "source": [
        "# 🧱 Install all required packages [updated 2025-05-31]\n",
        "!pip install youtube-transcript-api pandas numpy matplotlib requests"
      ],
      "metadata": {
        "id": "DYurPbwWvoZC"
      },
      "execution_count": null,
      "outputs": []
    },
    {
      "cell_type": "code",
      "source": [
        "# 🧠 Import libraries\n",
        "from youtube_transcript_api import YouTubeTranscriptApi\n",
        "import pandas as pd\n",
        "import numpy as np\n",
        "import matplotlib.pyplot as plt\n",
        "import requests"
      ],
      "metadata": {
        "id": "JgBL1Q_PwdHF"
      },
      "execution_count": null,
      "outputs": []
    },
    {
      "cell_type": "code",
      "source": [
        "## ✍️ ใส่โค้ดหลักได้ที่นี่ (template ไว้เขียนต่อ)"
      ],
      "metadata": {
        "id": "l34aywtgwfex"
      },
      "execution_count": null,
      "outputs": []
    }
  ],
  "metadata": {
    "colab": {
      "name": "ยินดีต้อนรับสู่ Colab",
      "toc_visible": true,
      "provenance": [],
      "include_colab_link": true
    },
    "kernelspec": {
      "display_name": "Python 3",
      "name": "python3"
    }
  },
  "nbformat": 4,
  "nbformat_minor": 0
}